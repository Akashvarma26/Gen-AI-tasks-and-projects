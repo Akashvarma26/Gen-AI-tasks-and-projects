{
 "cells": [
  {
   "cell_type": "markdown",
   "metadata": {},
   "source": [
    "## Hybrid Search RAG"
   ]
  },
  {
   "cell_type": "markdown",
   "metadata": {},
   "source": [
    "1) Create pinecone account\n",
    "2) Generate API and save it in .env file\n",
    "3) Run the script to create an index"
   ]
  },
  {
   "cell_type": "code",
   "execution_count": 7,
   "metadata": {},
   "outputs": [],
   "source": [
    "# Importing the required libraries\n",
    "from dotenv import load_dotenv\n",
    "from langchain_community.retrievers import PineconeHybridSearchRetriever\n",
    "import os\n",
    "from pinecone import Pinecone,ServerlessSpec\n",
    "from langchain_huggingface import HuggingFaceEmbeddings\n",
    "load_dotenv()\n",
    "os.environ[\"PINECONE_API_KEY\"]=os.getenv(\"PINECONE_API_KEY\")\n",
    "os.environ[\"HF_TOKEN\"]=os.getenv(\"HF_TOKEN\")"
   ]
  },
  {
   "cell_type": "code",
   "execution_count": 8,
   "metadata": {},
   "outputs": [],
   "source": [
    "# Index name\n",
    "index_name = \"hybrid-search-langchain\"\n",
    "# Initialize pinecone client\n",
    "pc=Pinecone(api_key=os.environ[\"PINECONE_API_KEY\"])\n",
    "\n",
    "# Create a new index\n",
    "if index_name not in pc.list_indexes().names():\n",
    "    pc.create_index(name=index_name,\n",
    "                    metric=\"dotproduct\",\n",
    "                    spec=ServerlessSpec(cloud=\"aws\",region=\"us-east-1\"),\n",
    "                    dimension=384\n",
    "                    )\n",
    "    print(f\"Index {index_name} created\")"
   ]
  },
  {
   "cell_type": "code",
   "execution_count": 9,
   "metadata": {},
   "outputs": [
    {
     "data": {
      "text/plain": [
       "<pinecone.data.index.Index at 0x1cd20d93230>"
      ]
     },
     "execution_count": 9,
     "metadata": {},
     "output_type": "execute_result"
    }
   ],
   "source": [
    "index=pc.Index(index_name)\n",
    "index"
   ]
  },
  {
   "cell_type": "code",
   "execution_count": 10,
   "metadata": {},
   "outputs": [
    {
     "data": {
      "text/plain": [
       "HuggingFaceEmbeddings(model_name='all-MiniLM-L6-v2', cache_folder=None, model_kwargs={}, encode_kwargs={}, multi_process=False, show_progress=False)"
      ]
     },
     "execution_count": 10,
     "metadata": {},
     "output_type": "execute_result"
    }
   ],
   "source": [
    "# Create one for sparse and one for dense Matrix\n",
    "embeddings=HuggingFaceEmbeddings(model_name=\"all-MiniLM-L6-v2\")\n",
    "embeddings"
   ]
  },
  {
   "cell_type": "code",
   "execution_count": 11,
   "metadata": {},
   "outputs": [
    {
     "data": {
      "text/plain": [
       "<pinecone_text.sparse.bm25_encoder.BM25Encoder at 0x1cd1e58e1b0>"
      ]
     },
     "execution_count": 11,
     "metadata": {},
     "output_type": "execute_result"
    }
   ],
   "source": [
    "from pinecone_text.sparse import BM25Encoder\n",
    "bm25_enc=BM25Encoder().default()\n",
    "bm25_enc"
   ]
  },
  {
   "cell_type": "code",
   "execution_count": 12,
   "metadata": {},
   "outputs": [
    {
     "name": "stderr",
     "output_type": "stream",
     "text": [
      "100%|██████████| 3/3 [00:00<00:00, 2970.47it/s]\n"
     ]
    }
   ],
   "source": [
    "sentences=[\n",
    "    \"In 2025, I will visit to US.\",\n",
    "    \"In 2025, I will pursue my Masters.\",\n",
    "    \"In 2027, I aim to graduate.\"\n",
    "]\n",
    "\n",
    "# TFIDF values of sentences\n",
    "bm25_enc.fit(sentences)\n",
    "# store the values to json file\n",
    "bm25_enc.dump(\"bm25_sen.json\")"
   ]
  },
  {
   "cell_type": "code",
   "execution_count": 13,
   "metadata": {},
   "outputs": [],
   "source": [
    "retriever=PineconeHybridSearchRetriever(embeddings=embeddings,sparse_encoder=bm25_enc,index=index)"
   ]
  },
  {
   "cell_type": "code",
   "execution_count": 14,
   "metadata": {},
   "outputs": [
    {
     "name": "stderr",
     "output_type": "stream",
     "text": [
      "100%|██████████| 1/1 [00:02<00:00,  2.01s/it]\n"
     ]
    }
   ],
   "source": [
    "retriever.add_texts(\n",
    "    [\n",
    "    \"In 2025, I will visit to US.\",\n",
    "    \"In 2025, I will pursue my Masters.\",\n",
    "    \"In 2027, I aim to graduate.\"\n",
    "]\n",
    ")"
   ]
  },
  {
   "cell_type": "code",
   "execution_count": 15,
   "metadata": {},
   "outputs": [
    {
     "data": {
      "text/plain": [
       "[Document(metadata={'score': 0.596325576}, page_content='In 2025, I will visit to US.'),\n",
       " Document(metadata={'score': 0.584058881}, page_content='In 2025, I will pursue my Masters.'),\n",
       " Document(metadata={'score': 0.351142764}, page_content='In 2027, I aim to graduate.')]"
      ]
     },
     "execution_count": 15,
     "metadata": {},
     "output_type": "execute_result"
    }
   ],
   "source": [
    "retriever.invoke(\"What will i do in 2025?\")"
   ]
  }
 ],
 "metadata": {
  "kernelspec": {
   "display_name": "pinecone",
   "language": "python",
   "name": "python3"
  },
  "language_info": {
   "codemirror_mode": {
    "name": "ipython",
    "version": 3
   },
   "file_extension": ".py",
   "mimetype": "text/x-python",
   "name": "python",
   "nbconvert_exporter": "python",
   "pygments_lexer": "ipython3",
   "version": "3.12.3"
  }
 },
 "nbformat": 4,
 "nbformat_minor": 2
}
