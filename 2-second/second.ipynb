{
 "cells": [
  {
   "cell_type": "code",
   "execution_count": 1,
   "metadata": {},
   "outputs": [],
   "source": [
    "import os\n",
    "from dotenv import load_dotenv\n",
    "load_dotenv()\n",
    "\n",
    "os.environ[\"OPENAI_API_KEY\"]=os.getenv(\"OPENAI_API_KEY\")\n",
    "os.environ[\"LANGCHAIN_API_KEY\"]=os.getenv(\"LANGCHAIN_API_KEY\")\n",
    "os.environ[\"LANGCHAIN_TRACING_V2\"]=\"true\"\n",
    "os.environ[\"LANGCHAIN_ENDPOINT\"]=\"https://api.smith.langchain.com\"\n",
    "os.environ[\"LANGCHAIN_PROJECT\"]=os.getenv(\"LANGCHAIN_PROJECT\")"
   ]
  },
  {
   "cell_type": "code",
   "execution_count": 2,
   "metadata": {},
   "outputs": [
    {
     "data": {
      "text/plain": [
       "ChatOpenAI(client=<openai.resources.chat.completions.Completions object at 0x00000167EECED5E0>, async_client=<openai.resources.chat.completions.AsyncCompletions object at 0x00000167EECEF350>, root_client=<openai.OpenAI object at 0x00000167EEB72FF0>, root_async_client=<openai.AsyncOpenAI object at 0x00000167EECED640>, model_name='gpt-4o', model_kwargs={}, openai_api_key=SecretStr('**********'))"
      ]
     },
     "execution_count": 2,
     "metadata": {},
     "output_type": "execute_result"
    }
   ],
   "source": [
    "# Import LLM\n",
    "from langchain_openai import ChatOpenAI\n",
    "llm=ChatOpenAI(model=\"gpt-4o\")\n",
    "llm"
   ]
  },
  {
   "cell_type": "code",
   "execution_count": 3,
   "metadata": {},
   "outputs": [
    {
     "name": "stdout",
     "output_type": "stream",
     "text": [
      "content='AI, or Artificial Intelligence, refers to the simulation of human intelligence in machines that are programmed to think and learn like humans. It encompasses a variety of technologies and methodologies that enable machines to perform tasks that typically require human intelligence. These tasks include problem-solving, understanding natural language, recognizing patterns, and making decisions.\\n\\nAI can be categorized into two main types:\\n\\n1. **Narrow AI (Weak AI):** This type of AI is designed to perform a specific task, such as facial recognition, internet searches, or self-driving car navigation. It operates under a limited set of constraints and is not intended to possess generalized intelligence.\\n\\n2. **General AI (Strong AI):** This is a theoretical form of AI that would possess the ability to understand, learn, and apply intelligence across a wide range of tasks, similar to the cognitive abilities of a human being. General AI does not currently exist but is a topic of ongoing research.\\n\\nAI technologies include machine learning, deep learning, natural language processing, robotics, and computer vision, among others. Machine learning, in particular, is a subset of AI that involves training algorithms to learn from and make predictions or decisions based on data.' additional_kwargs={'refusal': None} response_metadata={'token_usage': {'completion_tokens': 235, 'prompt_tokens': 11, 'total_tokens': 246, 'completion_tokens_details': {'accepted_prediction_tokens': 0, 'audio_tokens': 0, 'reasoning_tokens': 0, 'rejected_prediction_tokens': 0}, 'prompt_tokens_details': {'audio_tokens': 0, 'cached_tokens': 0}}, 'model_name': 'gpt-4o-2024-08-06', 'system_fingerprint': 'fp_45cf54deae', 'finish_reason': 'stop', 'logprobs': None} id='run-de38e197-700e-4ad4-aeac-e8f4a62ea1ed-0' usage_metadata={'input_tokens': 11, 'output_tokens': 235, 'total_tokens': 246, 'input_token_details': {'audio': 0, 'cache_read': 0}, 'output_token_details': {'audio': 0, 'reasoning': 0}}\n"
     ]
    }
   ],
   "source": [
    "# Input and get response from GPT 4o model\n",
    "res=llm.invoke(\"What is AI?\")\n",
    "print(res)"
   ]
  },
  {
   "cell_type": "code",
   "execution_count": 4,
   "metadata": {},
   "outputs": [],
   "source": [
    "# ChatPrompt template\n",
    "from langchain_core.prompts import ChatPromptTemplate\n",
    "\n",
    "prompt=ChatPromptTemplate.from_messages(\n",
    "    [\n",
    "        (\"system\",\"You are a Software Engineer.Provide me answers based on the questions.\"),\n",
    "        (\"user\",\"{input}\")\n",
    "    ])"
   ]
  },
  {
   "cell_type": "code",
   "execution_count": null,
   "metadata": {},
   "outputs": [
    {
     "name": "stdout",
     "output_type": "stream",
     "text": [
      "content='JavaScript is a high-level, dynamic, untyped, and interpreted programming language that is one of the core technologies of the web, alongside HTML and CSS. It was initially created to make web pages interactive and provide online programs, including video games, with dynamic behavior. Here are some key characteristics and uses of JavaScript:\\n\\n1. **Web Development**: JavaScript is primarily used for client-side development to build interactive and dynamic web pages. It enables developers to create responsive user interfaces, handle events, validate user inputs, and perform asynchronous operations like fetching data from a server without reloading the page (AJAX).\\n\\n2. **Server-side Development**: With the advent of Node.js, JavaScript can also be used for server-side programming, allowing developers to create fast and scalable network applications. Node.js is particularly well-suited for building RESTful APIs and handling real-time applications like chat servers.\\n\\n3. **Mobile App Development**: Frameworks like React Native and Apache Cordova allow developers to build mobile applications for iOS and Android using JavaScript. These frameworks enable the development of cross-platform apps with a single codebase.\\n\\n4. **Desktop Applications**: JavaScript can be used to create desktop applications through frameworks like Electron, which allows developers to build cross-platform desktop apps using web technologies.\\n\\n5. **Game Development**: JavaScript, along with HTML5 and WebGL, is used to create browser-based games. Libraries and engines like Phaser, Three.js, and Babylon.js facilitate game development with JavaScript.\\n\\n6. **Internet of Things (IoT)**: JavaScript can be used in IoT development environments like Johnny-Five and Node-RED, allowing developers to program and control connected devices.\\n\\n7. **Machine Learning and AI**: Libraries like TensorFlow.js enable developers to build and train machine learning models directly in the browser or on Node.js servers using JavaScript.\\n\\nOverall, JavaScript is a versatile language that powers a significant portion of the web and extends its capabilities to mobile, desktop, and server-side environments.' additional_kwargs={'refusal': None} response_metadata={'token_usage': {'completion_tokens': 412, 'prompt_tokens': 34, 'total_tokens': 446, 'completion_tokens_details': {'accepted_prediction_tokens': 0, 'audio_tokens': 0, 'reasoning_tokens': 0, 'rejected_prediction_tokens': 0}, 'prompt_tokens_details': {'audio_tokens': 0, 'cached_tokens': 0}}, 'model_name': 'gpt-4o-2024-08-06', 'system_fingerprint': 'fp_9ee9e968ea', 'finish_reason': 'stop', 'logprobs': None} id='run-e0353423-e06c-4dc4-b6e7-123a203e6599-0' usage_metadata={'input_tokens': 34, 'output_tokens': 412, 'total_tokens': 446, 'input_token_details': {'audio': 0, 'cache_read': 0}, 'output_token_details': {'audio': 0, 'reasoning': 0}}\n"
     ]
    }
   ],
   "source": [
    "# Chain\n",
    "chain=prompt|llm\n",
    "\n",
    "response=chain.invoke({\"input\":\"What is Javascript and where it is used?\"})\n",
    "print(response)"
   ]
  },
  {
   "cell_type": "code",
   "execution_count": 6,
   "metadata": {},
   "outputs": [
    {
     "name": "stdout",
     "output_type": "stream",
     "text": [
      "JavaScript is a high-level, versatile programming language that is commonly used to create interactive and dynamic content on websites. It is a key technology of the World Wide Web, alongside HTML and CSS, and is supported by all modern web browsers. JavaScript allows developers to implement complex features on web pages, such as interactive forms, animations, video playback, and real-time content updates.\n",
      "\n",
      "Here are some common areas where JavaScript is used:\n",
      "\n",
      "1. **Web Development**: JavaScript is primarily used for client-side scripting to create interactive and dynamic web pages. It enhances user experiences by enabling features such as image sliders, form validations, and dynamic content updates without needing to reload the page.\n",
      "\n",
      "2. **Server-Side Development**: With the advent of Node.js, JavaScript can be used for server-side programming as well. This allows developers to use a single language for both client and server-side code.\n",
      "\n",
      "3. **Mobile App Development**: JavaScript can be used to develop mobile applications using frameworks like React Native and Apache Cordova, which allow developers to build cross-platform apps with a single codebase.\n",
      "\n",
      "4. **Desktop Applications**: JavaScript, in combination with frameworks like Electron, can be used to build desktop applications that work across different operating systems.\n",
      "\n",
      "5. **Game Development**: JavaScript is also used in game development, particularly for browser-based games, using libraries and frameworks like Phaser and Babylon.js.\n",
      "\n",
      "6. **Internet of Things (IoT)**: JavaScript can be used in developing IoT applications, particularly with platforms that support Node.js.\n",
      "\n",
      "Overall, JavaScript is a versatile and powerful language that enables developers to create a wide range of applications, from simple websites to complex web and mobile applications.\n"
     ]
    }
   ],
   "source": [
    "# str output Parser to display output\n",
    "from langchain_core.output_parsers import StrOutputParser\n",
    "parser1=StrOutputParser()\n",
    "chain=prompt|llm|parser1\n",
    "\n",
    "response=chain.invoke({\"input\":\"What is Javascript and where it is used?\"})\n",
    "print(response)"
   ]
  }
 ],
 "metadata": {
  "kernelspec": {
   "display_name": "langchavenv",
   "language": "python",
   "name": "python3"
  },
  "language_info": {
   "codemirror_mode": {
    "name": "ipython",
    "version": 3
   },
   "file_extension": ".py",
   "mimetype": "text/x-python",
   "name": "python",
   "nbconvert_exporter": "python",
   "pygments_lexer": "ipython3",
   "version": "3.12.3"
  }
 },
 "nbformat": 4,
 "nbformat_minor": 2
}
