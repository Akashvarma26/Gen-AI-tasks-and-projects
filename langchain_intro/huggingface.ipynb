{
 "cells": [
  {
   "cell_type": "markdown",
   "metadata": {},
   "source": [
    "### LangChain and HuggingFace Integration"
   ]
  },
  {
   "cell_type": "code",
   "execution_count": 4,
   "metadata": {},
   "outputs": [],
   "source": [
    "# Importing libraries and API keys\n",
    "import os\n",
    "from dotenv import load_dotenv\n",
    "load_dotenv()\n",
    "os.environ[\"HF_TOKEN\"]=os.getenv(\"HF_TOKEN\")"
   ]
  },
  {
   "cell_type": "code",
   "execution_count": null,
   "metadata": {},
   "outputs": [
    {
     "name": "stderr",
     "output_type": "stream",
     "text": [
      "Note: Environment variable`HF_TOKEN` is set and is the current active token independently from the token you've just configured.\n"
     ]
    },
    {
     "data": {
      "text/plain": [
       "HuggingFaceEndpoint(repo_id='mistralai/Mistral-7B-Instruct-v0.3', temperature=0.7, stop_sequences=[], server_kwargs={}, model_kwargs={}, model='mistralai/Mistral-7B-Instruct-v0.3', client=<InferenceClient(model='mistralai/Mistral-7B-Instruct-v0.3', timeout=120)>, async_client=<InferenceClient(model='mistralai/Mistral-7B-Instruct-v0.3', timeout=120)>)"
      ]
     },
     "execution_count": 5,
     "metadata": {},
     "output_type": "execute_result"
    }
   ],
   "source": [
    "# Loading LLM\n",
    "from langchain_huggingface import HuggingFaceEndpoint\n",
    "repo_id=\"mistralai/Mistral-7B-Instruct-v0.3\"\n",
    "llm=HuggingFaceEndpoint(repo_id=repo_id,temperature=0.7)\n",
    "llm"
   ]
  },
  {
   "cell_type": "code",
   "execution_count": null,
   "metadata": {},
   "outputs": [
    {
     "data": {
      "text/plain": [
       "'\\n\\nMachine Learning is a subfield of artificial intelligence that focuses on enabling machines to automatically learn and improve from experience without being explicitly programmed. Machine learning algorithms build a mathematical model based on sample data, known as “training data,” and use that model to make predictions or decisions without being specifically programmed to perform the task.\\n\\nThere are several types of machine learning, including supervised learning, unsupervised learning, and reinforcement learning. Supervised learning involves training a model on labeled data, where the correct output is provided for each input. Unsupervised learning, on the other hand, involves training a model on unlabeled data, where the goal is to find patterns or structure in the data. Reinforcement learning involves training a model to make decisions in an environment by rewarding or punishing the model based on its actions.\\n\\nMachine learning has a wide range of applications, including image and speech recognition, natural language processing, and autonomous vehicles. It is used in industries such as finance, healthcare, retail, and technology to improve efficiency, reduce costs, and make better decisions.\\n\\nMachine Learning Algorithms\\n\\nThere are many different machine learning algorithms, each with its own strengths and weaknesses. Some of the most commonly used algorithms include:\\n\\n1. Linear Regression: A supervised learning algorithm used for regression problems, where the goal is to predict a continuous output variable based on one or more input variables.\\n2. Logistic Regression: A supervised learning algorithm used for classification problems, where the goal is to predict a binary output variable based on one or more input variables.\\n3. Decision Trees: A supervised learning algorithm used for classification and regression problems. Decision trees work by recursively splitting the data into subsets based on the value of the input variables, with each split resulting in a decision rule.\\n4. Random Forests: An ensemble learning method that combines multiple decision trees to improve accuracy and reduce overfitting.\\n5. Support Vector Machines (SVM): A supervised learning algorithm used for classification problems. SVMs work by finding the hyperplane that maximally separates the data into different classes.\\n6. Neural Networks: A type of machine learning algorithm modeled after the structure and function of the human brain. Neural networks are used for a wide range of tasks, including image and speech recognition, natural language processing, and autonomous vehicles.\\n7. K-Means'"
      ]
     },
     "execution_count": 6,
     "metadata": {},
     "output_type": "execute_result"
    }
   ],
   "source": [
    "# Invoking\n",
    "llm.invoke(\"What is Machine Learning?\")"
   ]
  },
  {
   "cell_type": "code",
   "execution_count": 7,
   "metadata": {},
   "outputs": [
    {
     "name": "stdout",
     "output_type": "stream",
     "text": [
      "input_variables=['question'] input_types={} partial_variables={} template='\\nQuestion:{question}\\nAnswer: Solve Question step by step.\\n'\n"
     ]
    }
   ],
   "source": [
    "# RAG App\n",
    "from langchain import PromptTemplate,LLMChain\n",
    "template=\"\"\"\n",
    "Question:{question}\n",
    "Answer: Solve Question step by step.\n",
    "\"\"\"\n",
    "prompt=PromptTemplate(template=template,input_variables=[\"question\"])\n",
    "print(prompt)"
   ]
  },
  {
   "cell_type": "code",
   "execution_count": 8,
   "metadata": {},
   "outputs": [
    {
     "name": "stderr",
     "output_type": "stream",
     "text": [
      "C:\\Users\\rkdat\\AppData\\Local\\Temp\\ipykernel_2892\\1987028857.py:1: LangChainDeprecationWarning: The class `LLMChain` was deprecated in LangChain 0.1.17 and will be removed in 1.0. Use :meth:`~RunnableSequence, e.g., `prompt | llm`` instead.\n",
      "  llm_chain=LLMChain(llm=llm,prompt=prompt)\n"
     ]
    },
    {
     "data": {
      "text/plain": [
       "\" Generative AI is a type of artificial intelligence (AI) that can create new content, such as images, text, or music, based on the data it has been trained on. It uses machine learning algorithms to learn patterns and structures in the data, and then generates new content that is similar to the original data but also has unique characteristics. Generative AI can be used for a variety of applications, such as creating realistic images for video games, generating personalized content for marketing, and composing original music. Some examples of generative AI include deep learning models such as Generative Adversarial Networks (GANs) and Variational Autoencoders (VAEs).\\n\\nHere are some examples of generative AI:\\n\\n1. DeepFakes: DeepFakes are a type of generative AI that uses machine learning algorithms to create realistic videos of people saying or doing things they didn't actually do. DeepFakes are often used to create misleading or fake content, such as impersonating celebrities or politicians.\\n2. DeepDream: DeepDream is a generative AI model that can take an image and apply a series of filters to it, creating a dream-like image with surreal and abstract patterns. The model was trained on a large dataset of images and uses machine learning algorithms to learn the patterns and structures in the data.\\n3. Music Generation: Generative AI can be used to create original music. For example, a generative AI model called Magenta was developed by Google to create original music by learning patterns and structures in a large dataset of music.\\n4. Text Generation: Generative AI can also be used to create original text. For example, a generative AI model called GPT-3 was developed by OpenAI to generate human-like text based on a prompt. The model was trained on a large dataset of text and can generate text on a wide range of topics.\\n5. Image Generation: Generative AI can create original images. For example, a generative AI model called StyleGAN was developed to create realistic images of faces. The model was trained on a large dataset of face images and can generate new images that are similar to the original images but also have unique characteristics.\\n\\nGenerative AI is a rapidly growing field with many potential applications. It has the potential to revolutionize industries such as entertainment, marketing, and design, and could have a significant impact on society as a whole. However, it also\""
      ]
     },
     "execution_count": 8,
     "metadata": {},
     "output_type": "execute_result"
    }
   ],
   "source": [
    "llm_chain=LLMChain(llm=llm,prompt=prompt)\n",
    "llm.invoke(\"What is Generative AI?\")"
   ]
  }
 ],
 "metadata": {
  "kernelspec": {
   "display_name": ".venv",
   "language": "python",
   "name": "python3"
  },
  "language_info": {
   "codemirror_mode": {
    "name": "ipython",
    "version": 3
   },
   "file_extension": ".py",
   "mimetype": "text/x-python",
   "name": "python",
   "nbconvert_exporter": "python",
   "pygments_lexer": "ipython3",
   "version": "3.12.3"
  }
 },
 "nbformat": 4,
 "nbformat_minor": 2
}
