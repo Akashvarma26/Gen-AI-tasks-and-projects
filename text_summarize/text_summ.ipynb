{
 "cells": [
  {
   "cell_type": "markdown",
   "metadata": {},
   "source": [
    "## Text Summarization"
   ]
  },
  {
   "cell_type": "code",
   "execution_count": 2,
   "metadata": {},
   "outputs": [
    {
     "data": {
      "text/plain": [
       "ChatGroq(client=<groq.resources.chat.completions.Completions object at 0x000001A0805A4B00>, async_client=<groq.resources.chat.completions.AsyncCompletions object at 0x000001A0805A5550>, model_name='Gemma-7b-It', model_kwargs={}, groq_api_key=SecretStr('**********'))"
      ]
     },
     "execution_count": 2,
     "metadata": {},
     "output_type": "execute_result"
    }
   ],
   "source": [
    "# Importing required libraries, APIs\n",
    "from langchain_groq import ChatGroq\n",
    "import os\n",
    "from dotenv import load_dotenv\n",
    "load_dotenv()\n",
    "\n",
    "os.environ['GROQ_API_KEY']=os.getenv('GROQ_API_KEY')\n",
    "llm=ChatGroq(model=\"Gemma-7b-It\")\n",
    "llm"
   ]
  },
  {
   "cell_type": "code",
   "execution_count": 3,
   "metadata": {},
   "outputs": [],
   "source": [
    "from langchain.schema import (SystemMessage,AIMessage,HumanMessage)\n",
    "\n",
    "speech=\"\"\"\n",
    "A warm welcome to all the notable, respected teachers, seniors, and friends. Today I am standing before you all to present a speech on AI, the rapidly evolving world of artificial intelligence, and its implications for our society.\n",
    "\n",
    "Artificial Intelligence or AI is a simulation or a model of human intelligence in machines programmed that think like humans and mimic their actions. The word might bring to humans a robot from fiction stories of Science but in a real way, AI is already all around us, in our smartphones, digital assistants, feeds of social media, and many other aspects of daily life.\n",
    "\n",
    "Friends, do you know that the origins of AI research go back to the beginning of 1950 when John Von Neumann and Alan Turing transformed computers with the use of values from 0 to 9, or decimal logic, and machines to binary logic? Furthermore, thanks to the advancements in computer processing power, the availability of big data, and increased funding in research, which helped bring breakthroughs in artificial intelligence. \n",
    "\"\"\""
   ]
  },
  {
   "cell_type": "code",
   "execution_count": 4,
   "metadata": {},
   "outputs": [],
   "source": [
    "chat_message=[SystemMessage(\"You are an assistant for summarizing speeches.\"),\n",
    "              HumanMessage(f\"Please provide short and concise summary of the speech:\\n{speech}\")\n",
    "              ]"
   ]
  },
  {
   "cell_type": "code",
   "execution_count": 5,
   "metadata": {},
   "outputs": [
    {
     "name": "stderr",
     "output_type": "stream",
     "text": [
      "d:\\Akash\\GENAILLMs\\Langchain_projects\\.venv\\Lib\\site-packages\\tqdm\\auto.py:21: TqdmWarning: IProgress not found. Please update jupyter and ipywidgets. See https://ipywidgets.readthedocs.io/en/stable/user_install.html\n",
      "  from .autonotebook import tqdm as notebook_tqdm\n"
     ]
    },
    {
     "data": {
      "text/plain": [
       "204"
      ]
     },
     "execution_count": 5,
     "metadata": {},
     "output_type": "execute_result"
    }
   ],
   "source": [
    "# Number of tokens in speech\n",
    "llm.get_num_tokens(speech)"
   ]
  },
  {
   "cell_type": "code",
   "execution_count": 6,
   "metadata": {},
   "outputs": [
    {
     "name": "stderr",
     "output_type": "stream",
     "text": [
      "C:\\Users\\rkdat\\AppData\\Local\\Temp\\ipykernel_16604\\2694584740.py:1: LangChainDeprecationWarning: The method `BaseChatModel.__call__` was deprecated in langchain-core 0.1.7 and will be removed in 1.0. Use :meth:`~invoke` instead.\n",
      "  llm(chat_message)\n"
     ]
    },
    {
     "data": {
      "text/plain": [
       "AIMessage(content='**Speech Summary:**\\n\\nThe speech explores the concept of Artificial Intelligence (AI), highlighting its definition as a simulation of human intelligence in machines. It discusses the history of AI research, tracing its origins back to 1950. The speech also notes the significant advancements in computer processing power, big data availability, and research funding, leading to breakthroughs in AI capabilities.', additional_kwargs={}, response_metadata={'token_usage': {'completion_tokens': 75, 'prompt_tokens': 232, 'total_tokens': 307, 'completion_time': 0.088235294, 'prompt_time': 0.137849777, 'queue_time': 0.19333013999999998, 'total_time': 0.226085071}, 'model_name': 'Gemma-7b-It', 'system_fingerprint': 'fp_7d8efeb0b1', 'finish_reason': 'stop', 'logprobs': None}, id='run-980d3991-457f-426f-9077-b3e625445080-0', usage_metadata={'input_tokens': 232, 'output_tokens': 75, 'total_tokens': 307})"
      ]
     },
     "execution_count": 6,
     "metadata": {},
     "output_type": "execute_result"
    }
   ],
   "source": [
    "llm(chat_message)"
   ]
  },
  {
   "cell_type": "code",
   "execution_count": 7,
   "metadata": {},
   "outputs": [],
   "source": [
    "# Prompts for texts or speeches\n",
    "from langchain.chains import LLMChain\n",
    "from langchain.prompts import PromptTemplate\n",
    "\n",
    "generic_temp=\"\"\"\n",
    "Write Summary of the following speech in {language} language in concise way.\n",
    "Speech: {speech}\n",
    "\"\"\"\n",
    "prompt=PromptTemplate(input_variables=[\"speech\",\"language\"],template=generic_temp)"
   ]
  },
  {
   "cell_type": "code",
   "execution_count": 8,
   "metadata": {},
   "outputs": [
    {
     "data": {
      "text/plain": [
       "223"
      ]
     },
     "execution_count": 8,
     "metadata": {},
     "output_type": "execute_result"
    }
   ],
   "source": [
    "complete_prompt=prompt.format(speech=speech,language=\"Hindi\")\n",
    "llm.get_num_tokens(complete_prompt)"
   ]
  },
  {
   "cell_type": "code",
   "execution_count": 9,
   "metadata": {},
   "outputs": [
    {
     "name": "stderr",
     "output_type": "stream",
     "text": [
      "C:\\Users\\rkdat\\AppData\\Local\\Temp\\ipykernel_16604\\3766749775.py:1: LangChainDeprecationWarning: The class `LLMChain` was deprecated in LangChain 0.1.17 and will be removed in 1.0. Use :meth:`~RunnableSequence, e.g., `prompt | llm`` instead.\n",
      "  llm_chain=LLMChain(llm=llm,prompt=prompt)\n",
      "C:\\Users\\rkdat\\AppData\\Local\\Temp\\ipykernel_16604\\3766749775.py:2: LangChainDeprecationWarning: The method `Chain.run` was deprecated in langchain 0.1.0 and will be removed in 1.0. Use :meth:`~invoke` instead.\n",
      "  summary=llm_chain.run({\"speech\":speech,\"language\":\"Hindi\"})\n"
     ]
    },
    {
     "data": {
      "text/plain": [
       "'**Summary:**\\n\\nगिरहण के लिए सभी प्रतिष्ठित शिक्षकों, वरिष्ठ व मित्रों को स्वच्छ स्वागत। मैं आज आपके समक्ष एक भाषण प्रस्तुत करने के लिए खड़ा हूं, जो कृत्रीय बुद्धिमता (AI) के वेग से बदलते हुए दुनिया और समाज के लिए इसका प्रभाव है।\\n\\nकृत्रीय बुद्धिमता (AI) मनुष्यों के लिए एक अनुकरण या मॉडल है, जिनमें मानवों के सोचने और कार्यों की नकली करने की क्षमता है। यह शब्दों का उपयोग कर भी लाता है कि कल्पनिक कहानियों में रॉबोटों से मिलकर, लेकिन वास्तव में, AI हमारे smartphones, डिजिटल एजेंट, सोशल मीडिया के फीड और हमारे दैनिक जीवन के कई अन्य पहलुओं में पहले से भी है।\\n\\nAI के अनुसंधान की जड़ें 1950 के प्रारम्भ में हुई जब जॉन वन न्यूम और एलन टॉरिंग ने कंप्यूटरों को दशमल logic से बायनरी logic में बदलने में मदद किया। साथ ही, कंप्यूटर प्रोसेसिंग पॉवर, बड़े डेटा के सुलभता और अनुसंधान में बढ़ा हुआ वित्तीय समर्पितता के कारण भी यह प्रगति हुई।'"
      ]
     },
     "execution_count": 9,
     "metadata": {},
     "output_type": "execute_result"
    }
   ],
   "source": [
    "llm_chain=LLMChain(llm=llm,prompt=prompt)\n",
    "summary=llm_chain.run({\"speech\":speech,\"language\":\"Hindi\"})\n",
    "summary"
   ]
  },
  {
   "cell_type": "markdown",
   "metadata": {},
   "source": [
    "### Stuff Document Chain Text Summarization"
   ]
  },
  {
   "cell_type": "code",
   "execution_count": 10,
   "metadata": {},
   "outputs": [
    {
     "data": {
      "text/plain": [
       "[Document(metadata={'source': 'leg.pdf', 'page': 0}, page_content='LEGALNOTICE\\nDate: 14November2024\\nTo,Mr. AbhishekS.RDepartment of ComputerScience,SRMUniversity, KattankulathurCampus,Chennai, Tamil Nadu.\\nSubject: CeaseandDesist NoticeforUnauthorizedCopyingandUsageof Original ProjectMaterial\\nDearMr. AbhishekS.R,\\nI, SreyasSai, astudent of SRMUniversity, Department of ComputerScience, amwritingthislegal noticetoaddressaseriousconcernregardingtheunauthorizedcopyingandusageofmyoriginal project titled\"PitLaneInsiders,\"whichwaspresentedaspart of myacademiccoursework.\\nDetailsof Infringement: It hascometomyattentionthat youhavecopiedsubstantial portionsof myproject, includingbut not limitedtoitsconcept, analysis, andpresentationcontent, andpresentedit asyourownworkduringarecent collegepresentation. Thisact constitutesplagiarismandinfringement of intellectual property, violatingbothacademicguidelinesofSRMUniversityandapplicablecopyright laws.\\nViolationof Rights:\\n1. Intellectual PropertyInfringement: Theproject inquestionisaproduct of myoriginalresearchandcreativeefforts. Unauthorizedusagewithout priorconsent infringesuponmyintellectual propertyrights.\\n2. AcademicMisconduct: Youractionsbreachtheacademicintegritypolicyof SRMUniversity, whichstrictlyprohibitsplagiarismandtheunauthorizeduseof anotherstudent\\'swork.\\nDemands: Inlight of theabove, I demandthefollowingactionsbetakenimmediately:\\n1. Ceaseall useandpresentationof anypart of myproject material.\\n2. Refrainfromsubmittingorusingmyproject content inanyfutureacademicorpubliccontexts.'),\n",
       " Document(metadata={'source': 'leg.pdf', 'page': 1}, page_content='3. Provideawrittenapologyacknowledgingtheinfringement andmisconduct.\\n4. Notifytherelevant collegeauthoritiesandretract anyrecognitionorcreditsreceivedonthebasisof thecopiedwork.\\nLegal Action: Shouldyoufail tocomplywiththesedemandswithin7daysof receivingthisnotice, I will becompelledtotakelegal actionagainst you. Thismayincludefilingaformalcomplaint withSRMUniversity’sadministrationandpursuingfurtherlegal remediesfortheinfringement of intellectual propertyrightsandassociateddamages.\\nReservationof Rights: I reservetheright toseekfull compensationforanydamagescausedbyyourunauthorizedactionsandtotakeanyfurthernecessarylegal steps.\\nThisnoticeisissuedasafinal warning. Pleasetakethismatterseriouslyandrespondpromptly.\\nSincerely,SreyasSaiDepartment of ComputerScience, SRMUniversity')]"
      ]
     },
     "execution_count": 10,
     "metadata": {},
     "output_type": "execute_result"
    }
   ],
   "source": [
    "from langchain_community.document_loaders import PyPDFLoader\n",
    "loader=PyPDFLoader(\"leg.pdf\")\n",
    "docs=loader.load_and_split()\n",
    "docs"
   ]
  },
  {
   "cell_type": "code",
   "execution_count": 11,
   "metadata": {},
   "outputs": [],
   "source": [
    "# Prompt template\n",
    "template=\"\"\" \n",
    "Write a concise and short summary of following text.\n",
    "text:{text}\n",
    "\"\"\"\n",
    "\n",
    "prompt=PromptTemplate(input_variables=['text'],template=template)"
   ]
  },
  {
   "cell_type": "code",
   "execution_count": 12,
   "metadata": {},
   "outputs": [
    {
     "name": "stdout",
     "output_type": "stream",
     "text": [
      "\n",
      "\n",
      "\u001b[1m> Entering new StuffDocumentsChain chain...\u001b[0m\n",
      "\n",
      "\n",
      "\u001b[1m> Entering new LLMChain chain...\u001b[0m\n",
      "Prompt after formatting:\n",
      "\u001b[32;1m\u001b[1;3m \n",
      "Write a concise and short summary of following text.\n",
      "text:LEGALNOTICE\n",
      "Date: 14November2024\n",
      "To,Mr. AbhishekS.RDepartment of ComputerScience,SRMUniversity, KattankulathurCampus,Chennai, Tamil Nadu.\n",
      "Subject: CeaseandDesist NoticeforUnauthorizedCopyingandUsageof Original ProjectMaterial\n",
      "DearMr. AbhishekS.R,\n",
      "I, SreyasSai, astudent of SRMUniversity, Department of ComputerScience, amwritingthislegal noticetoaddressaseriousconcernregardingtheunauthorizedcopyingandusageofmyoriginal project titled\"PitLaneInsiders,\"whichwaspresentedaspart of myacademiccoursework.\n",
      "Detailsof Infringement: It hascometomyattentionthat youhavecopiedsubstantial portionsof myproject, includingbut not limitedtoitsconcept, analysis, andpresentationcontent, andpresentedit asyourownworkduringarecent collegepresentation. Thisact constitutesplagiarismandinfringement of intellectual property, violatingbothacademicguidelinesofSRMUniversityandapplicablecopyright laws.\n",
      "Violationof Rights:\n",
      "1. Intellectual PropertyInfringement: Theproject inquestionisaproduct of myoriginalresearchandcreativeefforts. Unauthorizedusagewithout priorconsent infringesuponmyintellectual propertyrights.\n",
      "2. AcademicMisconduct: Youractionsbreachtheacademicintegritypolicyof SRMUniversity, whichstrictlyprohibitsplagiarismandtheunauthorizeduseof anotherstudent'swork.\n",
      "Demands: Inlight of theabove, I demandthefollowingactionsbetakenimmediately:\n",
      "1. Ceaseall useandpresentationof anypart of myproject material.\n",
      "2. Refrainfromsubmittingorusingmyproject content inanyfutureacademicorpubliccontexts.\n",
      "\n",
      "3. Provideawrittenapologyacknowledgingtheinfringement andmisconduct.\n",
      "4. Notifytherelevant collegeauthoritiesandretract anyrecognitionorcreditsreceivedonthebasisof thecopiedwork.\n",
      "Legal Action: Shouldyoufail tocomplywiththesedemandswithin7daysof receivingthisnotice, I will becompelledtotakelegal actionagainst you. Thismayincludefilingaformalcomplaint withSRMUniversity’sadministrationandpursuingfurtherlegal remediesfortheinfringement of intellectual propertyrightsandassociateddamages.\n",
      "Reservationof Rights: I reservetheright toseekfull compensationforanydamagescausedbyyourunauthorizedactionsandtotakeanyfurthernecessarylegal steps.\n",
      "Thisnoticeisissuedasafinal warning. Pleasetakethismatterseriouslyandrespondpromptly.\n",
      "Sincerely,SreyasSaiDepartment of ComputerScience, SRMUniversity\n",
      "\u001b[0m\n",
      "\n",
      "\u001b[1m> Finished chain.\u001b[0m\n",
      "\n",
      "\u001b[1m> Finished chain.\u001b[0m\n"
     ]
    },
    {
     "data": {
      "text/plain": [
       "'**Summary:**\\n\\nA student, SreyasSai, alleges that another student, AbhishekS.R., has plagiarized and used his original project material without permission. Sai demands that AbhishekS.R.:\\n\\n- Cease using and presenting the stolen material.\\n- Refrain from future use of the stolen material.\\n- Apologize in writing for the infringement.\\n- Notify the university authorities and retract any recognition.\\n\\nSai threatens legal action if these demands are not met within 7 days.'"
      ]
     },
     "execution_count": 12,
     "metadata": {},
     "output_type": "execute_result"
    }
   ],
   "source": [
    "# Chains\n",
    "from langchain.chains.summarize import load_summarize_chain\n",
    "chain=load_summarize_chain(llm,chain_type=\"stuff\",prompt=prompt,verbose=True)\n",
    "output=chain.run(docs)\n",
    "output"
   ]
  },
  {
   "cell_type": "markdown",
   "metadata": {},
   "source": [
    "### Map reduce to summarize large docs"
   ]
  },
  {
   "cell_type": "code",
   "execution_count": 13,
   "metadata": {},
   "outputs": [],
   "source": [
    "# Text splitting\n",
    "from langchain.text_splitter import RecursiveCharacterTextSplitter\n",
    "text_splitter=RecursiveCharacterTextSplitter(chunk_size=2000,chunk_overlap=100)\n",
    "docs=text_splitter.split_documents(docs)"
   ]
  },
  {
   "cell_type": "code",
   "execution_count": 14,
   "metadata": {},
   "outputs": [],
   "source": [
    "# prompt template\n",
    "chunk_template=\"\"\" \n",
    "Summarize the below text.\\n\n",
    "Text:{text}\n",
    "summary:\n",
    "\"\"\"\n",
    "\n",
    "map_prompt_template=PromptTemplate(input_variables=['text'],template=chunk_template)"
   ]
  },
  {
   "cell_type": "code",
   "execution_count": 15,
   "metadata": {},
   "outputs": [],
   "source": [
    "final_prompt=\"\"\"Provide final summary of entire text with these important points.\n",
    "Add a Motivation Title, Start the precise summary with an introduction and provide the \n",
    "summary in number points for text. \n",
    "text: {text}\n",
    "\"\"\"\n",
    "\n",
    "final_prompt_template=PromptTemplate(input_variables=[\"text\"],template=final_prompt)"
   ]
  },
  {
   "cell_type": "code",
   "execution_count": 16,
   "metadata": {},
   "outputs": [
    {
     "name": "stdout",
     "output_type": "stream",
     "text": [
      "\n",
      "\n",
      "\u001b[1m> Entering new MapReduceDocumentsChain chain...\u001b[0m\n",
      "\n",
      "\n",
      "\u001b[1m> Entering new LLMChain chain...\u001b[0m\n",
      "Prompt after formatting:\n",
      "\u001b[32;1m\u001b[1;3m \n",
      "Summarize the below text.\n",
      "\n",
      "Text:LEGALNOTICE\n",
      "Date: 14November2024\n",
      "To,Mr. AbhishekS.RDepartment of ComputerScience,SRMUniversity, KattankulathurCampus,Chennai, Tamil Nadu.\n",
      "Subject: CeaseandDesist NoticeforUnauthorizedCopyingandUsageof Original ProjectMaterial\n",
      "DearMr. AbhishekS.R,\n",
      "I, SreyasSai, astudent of SRMUniversity, Department of ComputerScience, amwritingthislegal noticetoaddressaseriousconcernregardingtheunauthorizedcopyingandusageofmyoriginal project titled\"PitLaneInsiders,\"whichwaspresentedaspart of myacademiccoursework.\n",
      "Detailsof Infringement: It hascometomyattentionthat youhavecopiedsubstantial portionsof myproject, includingbut not limitedtoitsconcept, analysis, andpresentationcontent, andpresentedit asyourownworkduringarecent collegepresentation. Thisact constitutesplagiarismandinfringement of intellectual property, violatingbothacademicguidelinesofSRMUniversityandapplicablecopyright laws.\n",
      "Violationof Rights:\n",
      "1. Intellectual PropertyInfringement: Theproject inquestionisaproduct of myoriginalresearchandcreativeefforts. Unauthorizedusagewithout priorconsent infringesuponmyintellectual propertyrights.\n",
      "2. AcademicMisconduct: Youractionsbreachtheacademicintegritypolicyof SRMUniversity, whichstrictlyprohibitsplagiarismandtheunauthorizeduseof anotherstudent'swork.\n",
      "Demands: Inlight of theabove, I demandthefollowingactionsbetakenimmediately:\n",
      "1. Ceaseall useandpresentationof anypart of myproject material.\n",
      "2. Refrainfromsubmittingorusingmyproject content inanyfutureacademicorpubliccontexts.\n",
      "summary:\n",
      "\u001b[0m\n",
      "Prompt after formatting:\n",
      "\u001b[32;1m\u001b[1;3m \n",
      "Summarize the below text.\n",
      "\n",
      "Text:3. Provideawrittenapologyacknowledgingtheinfringement andmisconduct.\n",
      "4. Notifytherelevant collegeauthoritiesandretract anyrecognitionorcreditsreceivedonthebasisof thecopiedwork.\n",
      "Legal Action: Shouldyoufail tocomplywiththesedemandswithin7daysof receivingthisnotice, I will becompelledtotakelegal actionagainst you. Thismayincludefilingaformalcomplaint withSRMUniversity’sadministrationandpursuingfurtherlegal remediesfortheinfringement of intellectual propertyrightsandassociateddamages.\n",
      "Reservationof Rights: I reservetheright toseekfull compensationforanydamagescausedbyyourunauthorizedactionsandtotakeanyfurthernecessarylegal steps.\n",
      "Thisnoticeisissuedasafinal warning. Pleasetakethismatterseriouslyandrespondpromptly.\n",
      "Sincerely,SreyasSaiDepartment of ComputerScience, SRMUniversity\n",
      "summary:\n",
      "\u001b[0m\n",
      "\n",
      "\u001b[1m> Finished chain.\u001b[0m\n",
      "\n",
      "\n",
      "\u001b[1m> Entering new LLMChain chain...\u001b[0m\n",
      "Prompt after formatting:\n",
      "\u001b[32;1m\u001b[1;3mProvide final summary of entire text with these important points.\n",
      "Add a Motivation Title, Start the precise summary with an introduction and provide the \n",
      "summary in number points for text. \n",
      "text: **Summary:**\n",
      "\n",
      "A student, SreyasSai, accuses Mr. AbhishekS.R., a student of SRMUniversity's Department of Computer Science, of plagiarism and intellectual property infringement. Sai claims that Abhishek has unauthorizedly copied and presented Sai's original project, titled \"PitLaneInsiders,\" without permission. Sai demands that Abhishek:\n",
      "\n",
      "- Immediately cease all use and presentation of the project material.\n",
      "- Refrain from submitting or using the project content in any future academic or public contexts.\n",
      "\n",
      "**Summary:**\n",
      "\n",
      "A written apology is required to acknowledge infringement and misconduct. The individual must also notify relevant authorities and retract any recognition received based on copied work. Failure to comply within 7 days will result in legal action, including filing a formal complaint with SRM University and seeking compensation for damages. The sender reserves the right to take further legal steps.\n",
      "\u001b[0m\n",
      "\n",
      "\u001b[1m> Finished chain.\u001b[0m\n",
      "\n",
      "\u001b[1m> Finished chain.\u001b[0m\n"
     ]
    }
   ],
   "source": [
    "summary_chain=load_summarize_chain(\n",
    "    llm=llm,\n",
    "    chain_type=\"map_reduce\",\n",
    "    map_prompt=map_prompt_template,\n",
    "    combine_prompt=final_prompt_template,\n",
    "    verbose=True\n",
    ")\n",
    "\n",
    "output=summary_chain.run(docs)"
   ]
  },
  {
   "cell_type": "markdown",
   "metadata": {},
   "source": [
    "### Refine Chain for summarization"
   ]
  },
  {
   "cell_type": "code",
   "execution_count": 17,
   "metadata": {},
   "outputs": [
    {
     "name": "stdout",
     "output_type": "stream",
     "text": [
      "\n",
      "\n",
      "\u001b[1m> Entering new RefineDocumentsChain chain...\u001b[0m\n",
      "\n",
      "\n",
      "\u001b[1m> Entering new LLMChain chain...\u001b[0m\n",
      "Prompt after formatting:\n",
      "\u001b[32;1m\u001b[1;3mWrite a concise summary of the following:\n",
      "\n",
      "\n",
      "\"LEGALNOTICE\n",
      "Date: 14November2024\n",
      "To,Mr. AbhishekS.RDepartment of ComputerScience,SRMUniversity, KattankulathurCampus,Chennai, Tamil Nadu.\n",
      "Subject: CeaseandDesist NoticeforUnauthorizedCopyingandUsageof Original ProjectMaterial\n",
      "DearMr. AbhishekS.R,\n",
      "I, SreyasSai, astudent of SRMUniversity, Department of ComputerScience, amwritingthislegal noticetoaddressaseriousconcernregardingtheunauthorizedcopyingandusageofmyoriginal project titled\"PitLaneInsiders,\"whichwaspresentedaspart of myacademiccoursework.\n",
      "Detailsof Infringement: It hascometomyattentionthat youhavecopiedsubstantial portionsof myproject, includingbut not limitedtoitsconcept, analysis, andpresentationcontent, andpresentedit asyourownworkduringarecent collegepresentation. Thisact constitutesplagiarismandinfringement of intellectual property, violatingbothacademicguidelinesofSRMUniversityandapplicablecopyright laws.\n",
      "Violationof Rights:\n",
      "1. Intellectual PropertyInfringement: Theproject inquestionisaproduct of myoriginalresearchandcreativeefforts. Unauthorizedusagewithout priorconsent infringesuponmyintellectual propertyrights.\n",
      "2. AcademicMisconduct: Youractionsbreachtheacademicintegritypolicyof SRMUniversity, whichstrictlyprohibitsplagiarismandtheunauthorizeduseof anotherstudent'swork.\n",
      "Demands: Inlight of theabove, I demandthefollowingactionsbetakenimmediately:\n",
      "1. Ceaseall useandpresentationof anypart of myproject material.\n",
      "2. Refrainfromsubmittingorusingmyproject content inanyfutureacademicorpubliccontexts.\"\n",
      "\n",
      "\n",
      "CONCISE SUMMARY:\u001b[0m\n",
      "\n",
      "\u001b[1m> Finished chain.\u001b[0m\n",
      "\n",
      "\n",
      "\u001b[1m> Entering new LLMChain chain...\u001b[0m\n",
      "Prompt after formatting:\n",
      "\u001b[32;1m\u001b[1;3mYour job is to produce a final summary.\n",
      "We have provided an existing summary up to a certain point: **Summary:**\n",
      "\n",
      "A student, SreyasSai, has issued a cease and desist notice to Mr. AbhishekS.R., Department of Computer Science at SRMUniversity. Sai accuses Abhishek of unauthorizedly copying and presenting Sai's original project \"PitLaneInsiders\" as their own. Sai asserts that this constitutes plagiarism and infringement of intellectual property rights. Sai demands that Abhishek immediately cease all use of the project material and refrain from using it in future academic or public contexts.\n",
      "We have the opportunity to refine the existing summary (only if needed) with some more context below.\n",
      "------------\n",
      "3. Provideawrittenapologyacknowledgingtheinfringement andmisconduct.\n",
      "4. Notifytherelevant collegeauthoritiesandretract anyrecognitionorcreditsreceivedonthebasisof thecopiedwork.\n",
      "Legal Action: Shouldyoufail tocomplywiththesedemandswithin7daysof receivingthisnotice, I will becompelledtotakelegal actionagainst you. Thismayincludefilingaformalcomplaint withSRMUniversity’sadministrationandpursuingfurtherlegal remediesfortheinfringement of intellectual propertyrightsandassociateddamages.\n",
      "Reservationof Rights: I reservetheright toseekfull compensationforanydamagescausedbyyourunauthorizedactionsandtotakeanyfurthernecessarylegal steps.\n",
      "Thisnoticeisissuedasafinal warning. Pleasetakethismatterseriouslyandrespondpromptly.\n",
      "Sincerely,SreyasSaiDepartment of ComputerScience, SRMUniversity\n",
      "------------\n",
      "Given the new context, refine the original summary.\n",
      "If the context isn't useful, return the original summary.\u001b[0m\n",
      "\n",
      "\u001b[1m> Finished chain.\u001b[0m\n",
      "\n",
      "\u001b[1m> Finished chain.\u001b[0m\n"
     ]
    }
   ],
   "source": [
    "chain=load_summarize_chain(\n",
    "    llm=llm,\n",
    "    chain_type=\"refine\",\n",
    "    verbose=True,\n",
    ")\n",
    "\n",
    "output=chain.run(docs)"
   ]
  }
 ],
 "metadata": {
  "kernelspec": {
   "display_name": ".venv",
   "language": "python",
   "name": "python3"
  },
  "language_info": {
   "codemirror_mode": {
    "name": "ipython",
    "version": 3
   },
   "file_extension": ".py",
   "mimetype": "text/x-python",
   "name": "python",
   "nbconvert_exporter": "python",
   "pygments_lexer": "ipython3",
   "version": "3.12.3"
  }
 },
 "nbformat": 4,
 "nbformat_minor": 2
}
