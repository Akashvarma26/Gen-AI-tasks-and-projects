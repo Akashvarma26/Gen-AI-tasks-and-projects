{
 "cells": [
  {
   "cell_type": "markdown",
   "metadata": {},
   "source": [
    "## Text Summarization"
   ]
  },
  {
   "cell_type": "code",
   "execution_count": 8,
   "metadata": {},
   "outputs": [
    {
     "data": {
      "text/plain": [
       "ChatGroq(client=<groq.resources.chat.completions.Completions object at 0x000001E364D191C0>, async_client=<groq.resources.chat.completions.AsyncCompletions object at 0x000001E364CCAB40>, model_name='Gemma2-9b-It', model_kwargs={}, groq_api_key=SecretStr('**********'))"
      ]
     },
     "execution_count": 8,
     "metadata": {},
     "output_type": "execute_result"
    }
   ],
   "source": [
    "# Importing required libraries, APIs\n",
    "from langchain_groq import ChatGroq\n",
    "import os\n",
    "from dotenv import load_dotenv\n",
    "load_dotenv()\n",
    "\n",
    "os.environ['GROQ_API_KEY']=os.getenv('GROQ_API_KEY')\n",
    "llm=ChatGroq(model=\"Gemma2-9b-It\")\n",
    "llm"
   ]
  },
  {
   "cell_type": "code",
   "execution_count": 9,
   "metadata": {},
   "outputs": [],
   "source": [
    "from langchain.schema import (SystemMessage,AIMessage,HumanMessage)\n",
    "\n",
    "speech=\"\"\"\n",
    "A warm welcome to all the notable, respected teachers, seniors, and friends. Today I am standing before you all to present a speech on AI, the rapidly evolving world of artificial intelligence, and its implications for our society.\n",
    "\n",
    "Artificial Intelligence or AI is a simulation or a model of human intelligence in machines programmed that think like humans and mimic their actions. The word might bring to humans a robot from fiction stories of Science but in a real way, AI is already all around us, in our smartphones, digital assistants, feeds of social media, and many other aspects of daily life.\n",
    "\n",
    "Friends, do you know that the origins of AI research go back to the beginning of 1950 when John Von Neumann and Alan Turing transformed computers with the use of values from 0 to 9, or decimal logic, and machines to binary logic? Furthermore, thanks to the advancements in computer processing power, the availability of big data, and increased funding in research, which helped bring breakthroughs in artificial intelligence. \n",
    "\"\"\""
   ]
  },
  {
   "cell_type": "code",
   "execution_count": 10,
   "metadata": {},
   "outputs": [],
   "source": [
    "chat_message=[SystemMessage(\"You are an assistant for summarizing speeches.\"),\n",
    "              HumanMessage(f\"Please provide short and concise summary of the speech:\\n{speech}\")\n",
    "              ]"
   ]
  },
  {
   "cell_type": "code",
   "execution_count": 11,
   "metadata": {},
   "outputs": [
    {
     "data": {
      "text/plain": [
       "204"
      ]
     },
     "execution_count": 11,
     "metadata": {},
     "output_type": "execute_result"
    }
   ],
   "source": [
    "# Number of tokens in speech\n",
    "llm.get_num_tokens(speech)"
   ]
  },
  {
   "cell_type": "code",
   "execution_count": 12,
   "metadata": {},
   "outputs": [
    {
     "data": {
      "text/plain": [
       "AIMessage(content='This speech introduces artificial intelligence (AI), defining it as a simulation of human intelligence in machines. \\n\\nThe speaker highlights that AI is already present in everyday life, from smartphones to social media.  \\n\\nThe speech then briefly touches on the history of AI research, mentioning key figures like John Von Neumann and Alan Turing, and the factors that have contributed to recent breakthroughs in the field.  \\n', additional_kwargs={}, response_metadata={'token_usage': {'completion_tokens': 81, 'prompt_tokens': 232, 'total_tokens': 313, 'completion_time': 0.147272727, 'prompt_time': 0.011960142, 'queue_time': 0.0034892359999999997, 'total_time': 0.159232869}, 'model_name': 'Gemma2-9b-It', 'system_fingerprint': 'fp_10c08bf97d', 'finish_reason': 'stop', 'logprobs': None}, id='run-71669808-d65f-46c3-acdd-ad3b7be1e22f-0', usage_metadata={'input_tokens': 232, 'output_tokens': 81, 'total_tokens': 313})"
      ]
     },
     "execution_count": 12,
     "metadata": {},
     "output_type": "execute_result"
    }
   ],
   "source": [
    "llm(chat_message)"
   ]
  },
  {
   "cell_type": "code",
   "execution_count": 13,
   "metadata": {},
   "outputs": [],
   "source": [
    "# Prompts for texts or speeches\n",
    "from langchain.chains import LLMChain\n",
    "from langchain.prompts import PromptTemplate\n",
    "\n",
    "generic_temp=\"\"\"\n",
    "Write Summary of the following speech in {language} language in concise way.\n",
    "Speech: {speech}\n",
    "\"\"\"\n",
    "prompt=PromptTemplate(input_variables=[\"speech\",\"language\"],template=generic_temp)"
   ]
  },
  {
   "cell_type": "code",
   "execution_count": 14,
   "metadata": {},
   "outputs": [
    {
     "data": {
      "text/plain": [
       "223"
      ]
     },
     "execution_count": 14,
     "metadata": {},
     "output_type": "execute_result"
    }
   ],
   "source": [
    "complete_prompt=prompt.format(speech=speech,language=\"Hindi\")\n",
    "llm.get_num_tokens(complete_prompt)"
   ]
  },
  {
   "cell_type": "code",
   "execution_count": 15,
   "metadata": {},
   "outputs": [
    {
     "name": "stderr",
     "output_type": "stream",
     "text": [
      "C:\\Users\\rkdat\\AppData\\Local\\Temp\\ipykernel_9108\\3766749775.py:1: LangChainDeprecationWarning: The class `LLMChain` was deprecated in LangChain 0.1.17 and will be removed in 1.0. Use :meth:`~RunnableSequence, e.g., `prompt | llm`` instead.\n",
      "  llm_chain=LLMChain(llm=llm,prompt=prompt)\n",
      "C:\\Users\\rkdat\\AppData\\Local\\Temp\\ipykernel_9108\\3766749775.py:2: LangChainDeprecationWarning: The method `Chain.run` was deprecated in langchain 0.1.0 and will be removed in 1.0. Use :meth:`~invoke` instead.\n",
      "  summary=llm_chain.run({\"speech\":speech,\"language\":\"Hindi\"})\n"
     ]
    },
    {
     "data": {
      "text/plain": [
       "'यह भाषण कृत्रिम बुद्धिमत्ता (AI) के बारे में है।  \\n\\nभाषणकार कहते हैं कि AI मशीनों में मानव बुद्धिमत्ता का अनुकरण है जो मानवों की तरह सोचती हैं और कार्य करती हैं। AI पहले से ही हमारे स्मार्टफोन, डिजिटल सहायकों और सोशल मीडिया फीड में मौजूद है। \\n\\n1950 के दशक में जॉन वॉन न्यूमैन और अलन ट्यूरिंग ने कंप्यूटरों के विकास में महत्वपूर्ण योगदान दिया जिससे AI में प्रगति हुई। \\n\\n\\nबढ़ती कंप्यूटर शक्ति, बड़े डेटा की उपलब्धता और AI अनुसंधान में निवेश ने AI में क्रांति ला दी है। \\n\\n'"
      ]
     },
     "execution_count": 15,
     "metadata": {},
     "output_type": "execute_result"
    }
   ],
   "source": [
    "llm_chain=LLMChain(llm=llm,prompt=prompt)\n",
    "summary=llm_chain.run({\"speech\":speech,\"language\":\"Hindi\"})\n",
    "summary"
   ]
  },
  {
   "cell_type": "markdown",
   "metadata": {},
   "source": [
    "### Stuff Document Chain Text Summarization"
   ]
  },
  {
   "cell_type": "code",
   "execution_count": 16,
   "metadata": {},
   "outputs": [
    {
     "data": {
      "text/plain": [
       "[Document(metadata={'source': 'leg.pdf', 'page': 0}, page_content='LEGALNOTICE\\nDate: 14November2024\\nTo,Mr. AbhishekS.RDepartment of ComputerScience,SRMUniversity, KattankulathurCampus,Chennai, Tamil Nadu.\\nSubject: CeaseandDesist NoticeforUnauthorizedCopyingandUsageof Original ProjectMaterial\\nDearMr. AbhishekS.R,\\nI, SreyasSai, astudent of SRMUniversity, Department of ComputerScience, amwritingthislegal noticetoaddressaseriousconcernregardingtheunauthorizedcopyingandusageofmyoriginal project titled\"PitLaneInsiders,\"whichwaspresentedaspart of myacademiccoursework.\\nDetailsof Infringement: It hascometomyattentionthat youhavecopiedsubstantial portionsof myproject, includingbut not limitedtoitsconcept, analysis, andpresentationcontent, andpresentedit asyourownworkduringarecent collegepresentation. Thisact constitutesplagiarismandinfringement of intellectual property, violatingbothacademicguidelinesofSRMUniversityandapplicablecopyright laws.\\nViolationof Rights:\\n1. Intellectual PropertyInfringement: Theproject inquestionisaproduct of myoriginalresearchandcreativeefforts. Unauthorizedusagewithout priorconsent infringesuponmyintellectual propertyrights.\\n2. AcademicMisconduct: Youractionsbreachtheacademicintegritypolicyof SRMUniversity, whichstrictlyprohibitsplagiarismandtheunauthorizeduseof anotherstudent\\'swork.\\nDemands: Inlight of theabove, I demandthefollowingactionsbetakenimmediately:\\n1. Ceaseall useandpresentationof anypart of myproject material.\\n2. Refrainfromsubmittingorusingmyproject content inanyfutureacademicorpubliccontexts.'),\n",
       " Document(metadata={'source': 'leg.pdf', 'page': 1}, page_content='3. Provideawrittenapologyacknowledgingtheinfringement andmisconduct.\\n4. Notifytherelevant collegeauthoritiesandretract anyrecognitionorcreditsreceivedonthebasisof thecopiedwork.\\nLegal Action: Shouldyoufail tocomplywiththesedemandswithin7daysof receivingthisnotice, I will becompelledtotakelegal actionagainst you. Thismayincludefilingaformalcomplaint withSRMUniversity’sadministrationandpursuingfurtherlegal remediesfortheinfringement of intellectual propertyrightsandassociateddamages.\\nReservationof Rights: I reservetheright toseekfull compensationforanydamagescausedbyyourunauthorizedactionsandtotakeanyfurthernecessarylegal steps.\\nThisnoticeisissuedasafinal warning. Pleasetakethismatterseriouslyandrespondpromptly.\\nSincerely,SreyasSaiDepartment of ComputerScience, SRMUniversity')]"
      ]
     },
     "execution_count": 16,
     "metadata": {},
     "output_type": "execute_result"
    }
   ],
   "source": [
    "from langchain_community.document_loaders import PyPDFLoader\n",
    "loader=PyPDFLoader(\"leg.pdf\")\n",
    "docs=loader.load_and_split()\n",
    "docs"
   ]
  },
  {
   "cell_type": "code",
   "execution_count": 17,
   "metadata": {},
   "outputs": [],
   "source": [
    "# Prompt template\n",
    "template=\"\"\" \n",
    "Write a concise and short summary of following text.\n",
    "text:{text}\n",
    "\"\"\"\n",
    "\n",
    "prompt=PromptTemplate(input_variables=['text'],template=template)"
   ]
  },
  {
   "cell_type": "code",
   "execution_count": 18,
   "metadata": {},
   "outputs": [
    {
     "name": "stdout",
     "output_type": "stream",
     "text": [
      "\n",
      "\n",
      "\u001b[1m> Entering new StuffDocumentsChain chain...\u001b[0m\n",
      "\n",
      "\n",
      "\u001b[1m> Entering new LLMChain chain...\u001b[0m\n",
      "Prompt after formatting:\n",
      "\u001b[32;1m\u001b[1;3m \n",
      "Write a concise and short summary of following text.\n",
      "text:LEGALNOTICE\n",
      "Date: 14November2024\n",
      "To,Mr. AbhishekS.RDepartment of ComputerScience,SRMUniversity, KattankulathurCampus,Chennai, Tamil Nadu.\n",
      "Subject: CeaseandDesist NoticeforUnauthorizedCopyingandUsageof Original ProjectMaterial\n",
      "DearMr. AbhishekS.R,\n",
      "I, SreyasSai, astudent of SRMUniversity, Department of ComputerScience, amwritingthislegal noticetoaddressaseriousconcernregardingtheunauthorizedcopyingandusageofmyoriginal project titled\"PitLaneInsiders,\"whichwaspresentedaspart of myacademiccoursework.\n",
      "Detailsof Infringement: It hascometomyattentionthat youhavecopiedsubstantial portionsof myproject, includingbut not limitedtoitsconcept, analysis, andpresentationcontent, andpresentedit asyourownworkduringarecent collegepresentation. Thisact constitutesplagiarismandinfringement of intellectual property, violatingbothacademicguidelinesofSRMUniversityandapplicablecopyright laws.\n",
      "Violationof Rights:\n",
      "1. Intellectual PropertyInfringement: Theproject inquestionisaproduct of myoriginalresearchandcreativeefforts. Unauthorizedusagewithout priorconsent infringesuponmyintellectual propertyrights.\n",
      "2. AcademicMisconduct: Youractionsbreachtheacademicintegritypolicyof SRMUniversity, whichstrictlyprohibitsplagiarismandtheunauthorizeduseof anotherstudent'swork.\n",
      "Demands: Inlight of theabove, I demandthefollowingactionsbetakenimmediately:\n",
      "1. Ceaseall useandpresentationof anypart of myproject material.\n",
      "2. Refrainfromsubmittingorusingmyproject content inanyfutureacademicorpubliccontexts.\n",
      "\n",
      "3. Provideawrittenapologyacknowledgingtheinfringement andmisconduct.\n",
      "4. Notifytherelevant collegeauthoritiesandretract anyrecognitionorcreditsreceivedonthebasisof thecopiedwork.\n",
      "Legal Action: Shouldyoufail tocomplywiththesedemandswithin7daysof receivingthisnotice, I will becompelledtotakelegal actionagainst you. Thismayincludefilingaformalcomplaint withSRMUniversity’sadministrationandpursuingfurtherlegal remediesfortheinfringement of intellectual propertyrightsandassociateddamages.\n",
      "Reservationof Rights: I reservetheright toseekfull compensationforanydamagescausedbyyourunauthorizedactionsandtotakeanyfurthernecessarylegal steps.\n",
      "Thisnoticeisissuedasafinal warning. Pleasetakethismatterseriouslyandrespondpromptly.\n",
      "Sincerely,SreyasSaiDepartment of ComputerScience, SRMUniversity\n",
      "\u001b[0m\n",
      "\n",
      "\u001b[1m> Finished chain.\u001b[0m\n",
      "\n",
      "\u001b[1m> Finished chain.\u001b[0m\n"
     ]
    },
    {
     "data": {
      "text/plain": [
       "'Sreyas Sai, a Computer Science student at SRM University, is issuing a cease and desist notice to Abhishek S.R. for plagiarizing Sai\\'s original project, \"PitLaneInsiders.\" Sai accuses Abhishek of copying substantial portions of the project, including its concept, analysis, and presentation content, for a recent college presentation. \\n\\nSai demands Abhishek cease all use of the project material, provide a written apology, notify relevant authorities, and retract any recognition received based on the copied work. Failure to comply within 7 days will result in legal action, including a formal complaint to the university administration and potential lawsuits for intellectual property infringement. \\n\\n\\n'"
      ]
     },
     "execution_count": 18,
     "metadata": {},
     "output_type": "execute_result"
    }
   ],
   "source": [
    "# Chains\n",
    "from langchain.chains.summarize import load_summarize_chain\n",
    "chain=load_summarize_chain(llm,chain_type=\"stuff\",prompt=prompt,verbose=True)\n",
    "output=chain.run(docs)\n",
    "output"
   ]
  },
  {
   "cell_type": "markdown",
   "metadata": {},
   "source": [
    "### Map reduce to summarize large docs"
   ]
  },
  {
   "cell_type": "code",
   "execution_count": 19,
   "metadata": {},
   "outputs": [],
   "source": [
    "# Text splitting\n",
    "from langchain.text_splitter import RecursiveCharacterTextSplitter\n",
    "text_splitter=RecursiveCharacterTextSplitter(chunk_size=2000,chunk_overlap=100)\n",
    "docs=text_splitter.split_documents(docs)"
   ]
  },
  {
   "cell_type": "code",
   "execution_count": 20,
   "metadata": {},
   "outputs": [],
   "source": [
    "# prompt template\n",
    "chunk_template=\"\"\" \n",
    "Summarize the below text.\\n\n",
    "Text:{text}\n",
    "summary:\n",
    "\"\"\"\n",
    "\n",
    "map_prompt_template=PromptTemplate(input_variables=['text'],template=chunk_template)"
   ]
  },
  {
   "cell_type": "code",
   "execution_count": 21,
   "metadata": {},
   "outputs": [],
   "source": [
    "final_prompt=\"\"\"Provide final summary of entire text with these important points.\n",
    "Add a Motivation Title, Start the precise summary with an introduction and provide the \n",
    "summary in number points for text. \n",
    "text: {text}\n",
    "\"\"\"\n",
    "\n",
    "final_prompt_template=PromptTemplate(input_variables=[\"text\"],template=final_prompt)"
   ]
  },
  {
   "cell_type": "code",
   "execution_count": 22,
   "metadata": {},
   "outputs": [
    {
     "name": "stdout",
     "output_type": "stream",
     "text": [
      "\n",
      "\n",
      "\u001b[1m> Entering new MapReduceDocumentsChain chain...\u001b[0m\n",
      "\n",
      "\n",
      "\u001b[1m> Entering new LLMChain chain...\u001b[0m\n",
      "Prompt after formatting:\n",
      "\u001b[32;1m\u001b[1;3m \n",
      "Summarize the below text.\n",
      "\n",
      "Text:LEGALNOTICE\n",
      "Date: 14November2024\n",
      "To,Mr. AbhishekS.RDepartment of ComputerScience,SRMUniversity, KattankulathurCampus,Chennai, Tamil Nadu.\n",
      "Subject: CeaseandDesist NoticeforUnauthorizedCopyingandUsageof Original ProjectMaterial\n",
      "DearMr. AbhishekS.R,\n",
      "I, SreyasSai, astudent of SRMUniversity, Department of ComputerScience, amwritingthislegal noticetoaddressaseriousconcernregardingtheunauthorizedcopyingandusageofmyoriginal project titled\"PitLaneInsiders,\"whichwaspresentedaspart of myacademiccoursework.\n",
      "Detailsof Infringement: It hascometomyattentionthat youhavecopiedsubstantial portionsof myproject, includingbut not limitedtoitsconcept, analysis, andpresentationcontent, andpresentedit asyourownworkduringarecent collegepresentation. Thisact constitutesplagiarismandinfringement of intellectual property, violatingbothacademicguidelinesofSRMUniversityandapplicablecopyright laws.\n",
      "Violationof Rights:\n",
      "1. Intellectual PropertyInfringement: Theproject inquestionisaproduct of myoriginalresearchandcreativeefforts. Unauthorizedusagewithout priorconsent infringesuponmyintellectual propertyrights.\n",
      "2. AcademicMisconduct: Youractionsbreachtheacademicintegritypolicyof SRMUniversity, whichstrictlyprohibitsplagiarismandtheunauthorizeduseof anotherstudent'swork.\n",
      "Demands: Inlight of theabove, I demandthefollowingactionsbetakenimmediately:\n",
      "1. Ceaseall useandpresentationof anypart of myproject material.\n",
      "2. Refrainfromsubmittingorusingmyproject content inanyfutureacademicorpubliccontexts.\n",
      "summary:\n",
      "\u001b[0m\n",
      "Prompt after formatting:\n",
      "\u001b[32;1m\u001b[1;3m \n",
      "Summarize the below text.\n",
      "\n",
      "Text:3. Provideawrittenapologyacknowledgingtheinfringement andmisconduct.\n",
      "4. Notifytherelevant collegeauthoritiesandretract anyrecognitionorcreditsreceivedonthebasisof thecopiedwork.\n",
      "Legal Action: Shouldyoufail tocomplywiththesedemandswithin7daysof receivingthisnotice, I will becompelledtotakelegal actionagainst you. Thismayincludefilingaformalcomplaint withSRMUniversity’sadministrationandpursuingfurtherlegal remediesfortheinfringement of intellectual propertyrightsandassociateddamages.\n",
      "Reservationof Rights: I reservetheright toseekfull compensationforanydamagescausedbyyourunauthorizedactionsandtotakeanyfurthernecessarylegal steps.\n",
      "Thisnoticeisissuedasafinal warning. Pleasetakethismatterseriouslyandrespondpromptly.\n",
      "Sincerely,SreyasSaiDepartment of ComputerScience, SRMUniversity\n",
      "summary:\n",
      "\u001b[0m\n",
      "\n",
      "\u001b[1m> Finished chain.\u001b[0m\n",
      "\n",
      "\n",
      "\u001b[1m> Entering new LLMChain chain...\u001b[0m\n",
      "Prompt after formatting:\n",
      "\u001b[32;1m\u001b[1;3mProvide final summary of entire text with these important points.\n",
      "Add a Motivation Title, Start the precise summary with an introduction and provide the \n",
      "summary in number points for text. \n",
      "text: Sreyas Sai, a Computer Science student at SRM University, is sending a cease and desist notice to Abhishek S.R., also a Computer Science student. \n",
      "\n",
      "Sreyas accuses Abhishek of plagiarism for copying substantial portions of his original project, \"PitLaneInsiders,\" and presenting it as his own work in a recent college presentation. He states that this violates both SRM University's academic guidelines and copyright laws.\n",
      "\n",
      "Sreyas demands that Abhishek immediately:\n",
      "\n",
      "1. Stop using and presenting any part of his project material.\n",
      "2. Refrain from submitting or using his project content in any future academic or public contexts. \n",
      "\n",
      "\n",
      "Sreyas is asserting his intellectual property rights and the violation of academic integrity. \n",
      "\n",
      "\n",
      "This is a formal cease and desist letter accusing someone of plagiarism. \n",
      "\n",
      "The sender, Sreyas Sai, demands the recipient:\n",
      "\n",
      "1. **Write a written apology** admitting to the plagiarism.\n",
      "2. **Notify relevant college authorities** and withdraw any recognition or credits received based on the copied work.\n",
      "\n",
      "Failure to comply within 7 days will result in legal action, including a complaint to SRM University and further legal remedies for intellectual property infringement. \n",
      "\n",
      "The sender reserves the right to seek full compensation for damages and take any further necessary legal steps. \n",
      "\n",
      "\n",
      "The letter serves as a final warning, urging the recipient to take the matter seriously and respond promptly. \n",
      "\n",
      "\u001b[0m\n",
      "\n",
      "\u001b[1m> Finished chain.\u001b[0m\n",
      "\n",
      "\u001b[1m> Finished chain.\u001b[0m\n"
     ]
    }
   ],
   "source": [
    "summary_chain=load_summarize_chain(\n",
    "    llm=llm,\n",
    "    chain_type=\"map_reduce\",\n",
    "    map_prompt=map_prompt_template,\n",
    "    combine_prompt=final_prompt_template,\n",
    "    verbose=True\n",
    ")\n",
    "\n",
    "output=summary_chain.run(docs)"
   ]
  },
  {
   "cell_type": "markdown",
   "metadata": {},
   "source": [
    "### Refine Chain for summarization"
   ]
  },
  {
   "cell_type": "code",
   "execution_count": 23,
   "metadata": {},
   "outputs": [
    {
     "name": "stdout",
     "output_type": "stream",
     "text": [
      "\n",
      "\n",
      "\u001b[1m> Entering new RefineDocumentsChain chain...\u001b[0m\n",
      "\n",
      "\n",
      "\u001b[1m> Entering new LLMChain chain...\u001b[0m\n",
      "Prompt after formatting:\n",
      "\u001b[32;1m\u001b[1;3mWrite a concise summary of the following:\n",
      "\n",
      "\n",
      "\"LEGALNOTICE\n",
      "Date: 14November2024\n",
      "To,Mr. AbhishekS.RDepartment of ComputerScience,SRMUniversity, KattankulathurCampus,Chennai, Tamil Nadu.\n",
      "Subject: CeaseandDesist NoticeforUnauthorizedCopyingandUsageof Original ProjectMaterial\n",
      "DearMr. AbhishekS.R,\n",
      "I, SreyasSai, astudent of SRMUniversity, Department of ComputerScience, amwritingthislegal noticetoaddressaseriousconcernregardingtheunauthorizedcopyingandusageofmyoriginal project titled\"PitLaneInsiders,\"whichwaspresentedaspart of myacademiccoursework.\n",
      "Detailsof Infringement: It hascometomyattentionthat youhavecopiedsubstantial portionsof myproject, includingbut not limitedtoitsconcept, analysis, andpresentationcontent, andpresentedit asyourownworkduringarecent collegepresentation. Thisact constitutesplagiarismandinfringement of intellectual property, violatingbothacademicguidelinesofSRMUniversityandapplicablecopyright laws.\n",
      "Violationof Rights:\n",
      "1. Intellectual PropertyInfringement: Theproject inquestionisaproduct of myoriginalresearchandcreativeefforts. Unauthorizedusagewithout priorconsent infringesuponmyintellectual propertyrights.\n",
      "2. AcademicMisconduct: Youractionsbreachtheacademicintegritypolicyof SRMUniversity, whichstrictlyprohibitsplagiarismandtheunauthorizeduseof anotherstudent'swork.\n",
      "Demands: Inlight of theabove, I demandthefollowingactionsbetakenimmediately:\n",
      "1. Ceaseall useandpresentationof anypart of myproject material.\n",
      "2. Refrainfromsubmittingorusingmyproject content inanyfutureacademicorpubliccontexts.\"\n",
      "\n",
      "\n",
      "CONCISE SUMMARY:\u001b[0m\n",
      "\n",
      "\u001b[1m> Finished chain.\u001b[0m\n",
      "\n",
      "\n",
      "\u001b[1m> Entering new LLMChain chain...\u001b[0m\n",
      "Prompt after formatting:\n",
      "\u001b[32;1m\u001b[1;3mYour job is to produce a final summary.\n",
      "We have provided an existing summary up to a certain point: Sreyas Sai, a Computer Science student at SRM University, has issued a cease and desist notice to Abhishek S.R. for plagiarizing Sai's original project, \"PitLaneInsiders.\" Sai accuses Abhishek of copying substantial portions of the project, including its concept, analysis, and presentation, and presenting it as his own work.  \n",
      "\n",
      "Sai claims this violates both SRM University's academic integrity policy and copyright laws. He demands Abhishek immediately cease all use and presentation of his project material and refrain from using it in any future academic or public contexts. \n",
      "\n",
      "\n",
      "\n",
      "We have the opportunity to refine the existing summary (only if needed) with some more context below.\n",
      "------------\n",
      "3. Provideawrittenapologyacknowledgingtheinfringement andmisconduct.\n",
      "4. Notifytherelevant collegeauthoritiesandretract anyrecognitionorcreditsreceivedonthebasisof thecopiedwork.\n",
      "Legal Action: Shouldyoufail tocomplywiththesedemandswithin7daysof receivingthisnotice, I will becompelledtotakelegal actionagainst you. Thismayincludefilingaformalcomplaint withSRMUniversity’sadministrationandpursuingfurtherlegal remediesfortheinfringement of intellectual propertyrightsandassociateddamages.\n",
      "Reservationof Rights: I reservetheright toseekfull compensationforanydamagescausedbyyourunauthorizedactionsandtotakeanyfurthernecessarylegal steps.\n",
      "Thisnoticeisissuedasafinal warning. Pleasetakethismatterseriouslyandrespondpromptly.\n",
      "Sincerely,SreyasSaiDepartment of ComputerScience, SRMUniversity\n",
      "------------\n",
      "Given the new context, refine the original summary.\n",
      "If the context isn't useful, return the original summary.\u001b[0m\n",
      "\n",
      "\u001b[1m> Finished chain.\u001b[0m\n",
      "\n",
      "\u001b[1m> Finished chain.\u001b[0m\n"
     ]
    }
   ],
   "source": [
    "chain=load_summarize_chain(\n",
    "    llm=llm,\n",
    "    chain_type=\"refine\",\n",
    "    verbose=True,\n",
    ")\n",
    "\n",
    "output=chain.run(docs)"
   ]
  }
 ],
 "metadata": {
  "kernelspec": {
   "display_name": ".venv",
   "language": "python",
   "name": "python3"
  },
  "language_info": {
   "codemirror_mode": {
    "name": "ipython",
    "version": 3
   },
   "file_extension": ".py",
   "mimetype": "text/x-python",
   "name": "python",
   "nbconvert_exporter": "python",
   "pygments_lexer": "ipython3",
   "version": "3.12.3"
  }
 },
 "nbformat": 4,
 "nbformat_minor": 2
}
