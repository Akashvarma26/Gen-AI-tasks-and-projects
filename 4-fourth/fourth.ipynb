{
 "cells": [
  {
   "cell_type": "markdown",
   "metadata": {},
   "source": [
    "### Chatbot with history"
   ]
  },
  {
   "cell_type": "code",
   "execution_count": 1,
   "metadata": {},
   "outputs": [],
   "source": [
    "# Importing Libraries and setiing up API's\n",
    "import os\n",
    "from dotenv import load_dotenv\n",
    "load_dotenv()\n",
    "\n",
    "os.environ[\"GROQ_API_KEY\"]=os.getenv(\"GROQ_API_KEY\")\n",
    "from langchain_groq import ChatGroq\n",
    "# Loading model\n",
    "model=ChatGroq(model=\"Gemma2-9b-It\")"
   ]
  },
  {
   "cell_type": "code",
   "execution_count": 2,
   "metadata": {},
   "outputs": [
    {
     "data": {
      "text/plain": [
       "AIMessage(content=\"Hello Akash Varma Datla! It's nice to meet you.\\n\\nBeing a student at SRM University is great! What are you studying? \\n\\nIs there anything I can help you with today? I can answer your questions, help you brainstorm ideas, or even just chat. 😊  \\n\\n\", additional_kwargs={}, response_metadata={'token_usage': {'completion_tokens': 64, 'prompt_tokens': 25, 'total_tokens': 89, 'completion_time': 0.116363636, 'prompt_time': 0.00016397, 'queue_time': 0.014386889, 'total_time': 0.116527606}, 'model_name': 'Gemma2-9b-It', 'system_fingerprint': 'fp_10c08bf97d', 'finish_reason': 'stop', 'logprobs': None}, id='run-e6c4c1c3-c3ee-4826-9a0e-7717796d8f08-0', usage_metadata={'input_tokens': 25, 'output_tokens': 64, 'total_tokens': 89})"
      ]
     },
     "execution_count": 2,
     "metadata": {},
     "output_type": "execute_result"
    }
   ],
   "source": [
    "from langchain_core.messages import HumanMessage,SystemMessage\n",
    "model.invoke([HumanMessage(\"Hello! I am Akash Varma Datla, yA student of SRM University\")])"
   ]
  },
  {
   "cell_type": "code",
   "execution_count": 3,
   "metadata": {},
   "outputs": [
    {
     "data": {
      "text/plain": [
       "AIMessage(content=\"You are Akash Varma Datla, a student at SRM University. \\n\\nIs there anything else you'd like to know about yourself or anything else? I'm here to help! 😊  \\n\", additional_kwargs={}, response_metadata={'token_usage': {'completion_tokens': 44, 'prompt_tokens': 126, 'total_tokens': 170, 'completion_time': 0.08, 'prompt_time': 0.003909335, 'queue_time': 0.009842644, 'total_time': 0.083909335}, 'model_name': 'Gemma2-9b-It', 'system_fingerprint': 'fp_10c08bf97d', 'finish_reason': 'stop', 'logprobs': None}, id='run-710e9760-3230-4cda-8e97-8fd3f2114247-0', usage_metadata={'input_tokens': 126, 'output_tokens': 44, 'total_tokens': 170})"
      ]
     },
     "execution_count": 3,
     "metadata": {},
     "output_type": "execute_result"
    }
   ],
   "source": [
    "from langchain_core.messages import AIMessage\n",
    "model.invoke(\n",
    "    [\n",
    "        HumanMessage(content=\"Hello! I am Akash Varma Datla, yA student of SRM University\"),\n",
    "        AIMessage(content=\"Hello Akash Varma Datla! It's nice to meet you.\\n\\nAre you a student at SRM University? That's great!  \\n\\nWhat can I do for you today? 😊 \\n\\nI can help with things like:\\n\\n* Answering your questions\\n* Generating creative text\\n* Summarizing information\\n* Translating languages\\n\\nJust let me know how I can be of service.\\n\"),\n",
    "        HumanMessage(content=\"What is my name and who am I?\")\n",
    "    ]\n",
    ")"
   ]
  },
  {
   "cell_type": "code",
   "execution_count": 5,
   "metadata": {},
   "outputs": [],
   "source": [
    "# Message History\n",
    "from langchain_community.chat_message_histories import ChatMessageHistory\n",
    "from langchain_core.chat_history import BaseChatMessageHistory\n",
    "from langchain_core.runnables.history import RunnableWithMessageHistory\n",
    "\n",
    "# Defining a function to make sessions for diff users\n",
    "store={}\n",
    "def sess_history(session_id:str)->BaseChatMessageHistory:\n",
    "    if session_id not in store:\n",
    "        store[session_id]=ChatMessageHistory()\n",
    "    return store[session_id]\n",
    "\n",
    "\n",
    "with_message_history=RunnableWithMessageHistory(model,get_session_history=sess_history)"
   ]
  },
  {
   "cell_type": "code",
   "execution_count": 6,
   "metadata": {},
   "outputs": [],
   "source": [
    "config={\"configurable\":{\"session_id\":\"chat1\"}}"
   ]
  },
  {
   "cell_type": "code",
   "execution_count": 7,
   "metadata": {},
   "outputs": [
    {
     "data": {
      "text/plain": [
       "AIMessage(content=\"Hi Akash Varma!\\n\\nIt's nice to meet you.  \\n\\nBeing a student at SRM University is awesome! It's a great institution known for its strong academics and vibrant campus life. \\n\\nWhat are you studying at SRM? Are you enjoying your time there so far?\\n\", additional_kwargs={}, response_metadata={'token_usage': {'completion_tokens': 62, 'prompt_tokens': 24, 'total_tokens': 86, 'completion_time': 0.112727273, 'prompt_time': 0.000245739, 'queue_time': 0.015197098, 'total_time': 0.112973012}, 'model_name': 'Gemma2-9b-It', 'system_fingerprint': 'fp_10c08bf97d', 'finish_reason': 'stop', 'logprobs': None}, id='run-5621e002-d9a5-4f8b-be29-da755985c052-0', usage_metadata={'input_tokens': 24, 'output_tokens': 62, 'total_tokens': 86})"
      ]
     },
     "execution_count": 7,
     "metadata": {},
     "output_type": "execute_result"
    }
   ],
   "source": [
    "with_message_history.invoke(\n",
    "    [HumanMessage(\"Hi! I am Akash Varma and I am a student of SRM University\")],\n",
    "    config=config\n",
    ")"
   ]
  },
  {
   "cell_type": "code",
   "execution_count": 8,
   "metadata": {},
   "outputs": [
    {
     "data": {
      "text/plain": [
       "AIMessage(content='Your name is Akash Varma.  \\n\\nYou told me at the beginning of our conversation! 😊  How can I help you today?  \\n', additional_kwargs={}, response_metadata={'token_usage': {'completion_tokens': 32, 'prompt_tokens': 99, 'total_tokens': 131, 'completion_time': 0.058181818, 'prompt_time': 0.003452274, 'queue_time': 0.010848155, 'total_time': 0.061634092}, 'model_name': 'Gemma2-9b-It', 'system_fingerprint': 'fp_10c08bf97d', 'finish_reason': 'stop', 'logprobs': None}, id='run-40b59f4b-f35d-423b-87ea-0b0f102900c2-0', usage_metadata={'input_tokens': 99, 'output_tokens': 32, 'total_tokens': 131})"
      ]
     },
     "execution_count": 8,
     "metadata": {},
     "output_type": "execute_result"
    }
   ],
   "source": [
    "with_message_history.invoke([HumanMessage(\"What is my name?\")], config=config)"
   ]
  },
  {
   "cell_type": "markdown",
   "metadata": {},
   "source": [
    "### Add Chat History using Chat prompt template"
   ]
  },
  {
   "cell_type": "code",
   "execution_count": 17,
   "metadata": {},
   "outputs": [],
   "source": [
    "from langchain_core.prompts import ChatPromptTemplate\n",
    "from langchain_core.prompts import MessagesPlaceholder\n",
    "prompt=ChatPromptTemplate.from_messages([\n",
    "    (\"system\",\"You are 'AHA' a Helpfull Assistant.Answer all questions to the nest of your ability in {language}.\",),\n",
    "    MessagesPlaceholder(\"messages\")\n",
    "])\n",
    "\n",
    "chain=prompt|model"
   ]
  },
  {
   "cell_type": "code",
   "execution_count": 18,
   "metadata": {},
   "outputs": [
    {
     "data": {
      "text/plain": [
       "AIMessage(content='नमस्ते अकाश! 👋 \\n\\nमैं AHA, आपका मददगार सहायक हूँ।  \\n\\nआप क्या जानना चाहेंगे? 😊 \\n\\n', additional_kwargs={}, response_metadata={'token_usage': {'completion_tokens': 41, 'prompt_tokens': 38, 'total_tokens': 79, 'completion_time': 0.074545455, 'prompt_time': 0.000592068, 'queue_time': 0.012783540000000001, 'total_time': 0.075137523}, 'model_name': 'Gemma2-9b-It', 'system_fingerprint': 'fp_10c08bf97d', 'finish_reason': 'stop', 'logprobs': None}, id='run-01832a62-c22f-4f11-8dd0-dc070a878fbc-0', usage_metadata={'input_tokens': 38, 'output_tokens': 41, 'total_tokens': 79})"
      ]
     },
     "execution_count": 18,
     "metadata": {},
     "output_type": "execute_result"
    }
   ],
   "source": [
    "chain.invoke({\"messages\":[HumanMessage(\"Hi I am Akash!\")],\"language\":\"Hindi\"})"
   ]
  },
  {
   "cell_type": "code",
   "execution_count": 19,
   "metadata": {},
   "outputs": [],
   "source": [
    "from langchain_community.chat_message_histories import ChatMessageHistory\n",
    "from langchain_core.chat_history import BaseChatMessageHistory\n",
    "from langchain_core.runnables.history import RunnableWithMessageHistory\n",
    "store={}\n",
    "def sess_history(session_id:str)->BaseChatMessageHistory:\n",
    "    if session_id not in store:\n",
    "        store[session_id]=ChatMessageHistory()\n",
    "    return store[session_id]\n",
    "with_message_history=RunnableWithMessageHistory(chain,sess_history,input_messages_key=\"messages\")"
   ]
  },
  {
   "cell_type": "code",
   "execution_count": 20,
   "metadata": {},
   "outputs": [
    {
     "data": {
      "text/plain": [
       "AIMessage(content='आप मुझे AHA कह सकते हैं!  😊  मैं आपकी मदद करने के लिए यहाँ हूँ। \\n', additional_kwargs={}, response_metadata={'token_usage': {'completion_tokens': 28, 'prompt_tokens': 40, 'total_tokens': 68, 'completion_time': 0.050909091, 'prompt_time': 0.000467239, 'queue_time': 0.013895639000000001, 'total_time': 0.05137633}, 'model_name': 'Gemma2-9b-It', 'system_fingerprint': 'fp_10c08bf97d', 'finish_reason': 'stop', 'logprobs': None}, id='run-a679b76b-a3fe-4e18-bbfa-a58c22b52840-0', usage_metadata={'input_tokens': 40, 'output_tokens': 28, 'total_tokens': 68})"
      ]
     },
     "execution_count": 20,
     "metadata": {},
     "output_type": "execute_result"
    }
   ],
   "source": [
    "config={\"configurable\":{\"session_id\":\"chatdemo\"}}\n",
    "response=with_message_history.invoke(\n",
    "    {\"messages\":[HumanMessage(\"Hi! What should i call you?\")],\"language\":\"Hindi\"}\n",
    "     ,config=config\n",
    ")\n",
    "\n",
    "response"
   ]
  }
 ],
 "metadata": {
  "kernelspec": {
   "display_name": ".venv",
   "language": "python",
   "name": "python3"
  },
  "language_info": {
   "codemirror_mode": {
    "name": "ipython",
    "version": 3
   },
   "file_extension": ".py",
   "mimetype": "text/x-python",
   "name": "python",
   "nbconvert_exporter": "python",
   "pygments_lexer": "ipython3",
   "version": "3.12.3"
  }
 },
 "nbformat": 4,
 "nbformat_minor": 2
}
