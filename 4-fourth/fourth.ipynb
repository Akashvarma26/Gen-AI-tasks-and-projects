{
 "cells": [
  {
   "cell_type": "markdown",
   "metadata": {},
   "source": [
    "### Chatbot with history"
   ]
  },
  {
   "cell_type": "code",
   "execution_count": 2,
   "metadata": {},
   "outputs": [],
   "source": [
    "# Importing Libraries and setiing up API's\n",
    "import os\n",
    "from dotenv import load_dotenv\n",
    "load_dotenv()\n",
    "\n",
    "os.environ[\"GROQ_API_KEY\"]=os.getenv(\"GROQ_API_KEY\")\n",
    "from langchain_groq import ChatGroq\n",
    "# Loading model\n",
    "model=ChatGroq(model=\"Gemma2-9b-It\")"
   ]
  },
  {
   "cell_type": "code",
   "execution_count": 3,
   "metadata": {},
   "outputs": [
    {
     "data": {
      "text/plain": [
       "AIMessage(content=\"Hello Akash Varma Datla!\\n\\nIt's great to meet you.  \\n\\nWhat can I do for you today? Are you working on a project, have a question about SRM University, or just want to chat? 😊  \\n\\n\", additional_kwargs={}, response_metadata={'token_usage': {'completion_tokens': 52, 'prompt_tokens': 25, 'total_tokens': 77, 'completion_time': 0.094545455, 'prompt_time': 0.001256287, 'queue_time': 0.228080025, 'total_time': 0.095801742}, 'model_name': 'Gemma2-9b-It', 'system_fingerprint': 'fp_10c08bf97d', 'finish_reason': 'stop', 'logprobs': None}, id='run-28048680-5ab7-47ca-bf31-7e6cf74665da-0', usage_metadata={'input_tokens': 25, 'output_tokens': 52, 'total_tokens': 77})"
      ]
     },
     "execution_count": 3,
     "metadata": {},
     "output_type": "execute_result"
    }
   ],
   "source": [
    "from langchain_core.messages import HumanMessage,SystemMessage\n",
    "model.invoke([HumanMessage(\"Hello! I am Akash Varma Datla, yA student of SRM University\")])"
   ]
  },
  {
   "cell_type": "code",
   "execution_count": 4,
   "metadata": {},
   "outputs": [
    {
     "data": {
      "text/plain": [
       "AIMessage(content=\"You've told me your name is Akash Varma Datla, and you are a student at SRM University!  \\n\\nIs there anything else you'd like to know or discuss?  😄 \\n\", additional_kwargs={}, response_metadata={'token_usage': {'completion_tokens': 44, 'prompt_tokens': 126, 'total_tokens': 170, 'completion_time': 0.08, 'prompt_time': 0.003670929, 'queue_time': 0.00977859, 'total_time': 0.083670929}, 'model_name': 'Gemma2-9b-It', 'system_fingerprint': 'fp_10c08bf97d', 'finish_reason': 'stop', 'logprobs': None}, id='run-6facc3ec-1416-4e14-9d91-bf1234bf0a94-0', usage_metadata={'input_tokens': 126, 'output_tokens': 44, 'total_tokens': 170})"
      ]
     },
     "execution_count": 4,
     "metadata": {},
     "output_type": "execute_result"
    }
   ],
   "source": [
    "from langchain_core.messages import AIMessage\n",
    "model.invoke(\n",
    "    [\n",
    "        HumanMessage(content=\"Hello! I am Akash Varma Datla, yA student of SRM University\"),\n",
    "        AIMessage(content=\"Hello Akash Varma Datla! It's nice to meet you.\\n\\nAre you a student at SRM University? That's great!  \\n\\nWhat can I do for you today? 😊 \\n\\nI can help with things like:\\n\\n* Answering your questions\\n* Generating creative text\\n* Summarizing information\\n* Translating languages\\n\\nJust let me know how I can be of service.\\n\"),\n",
    "        HumanMessage(content=\"What is my name and who am I?\")\n",
    "    ]\n",
    ")"
   ]
  },
  {
   "cell_type": "code",
   "execution_count": 5,
   "metadata": {},
   "outputs": [],
   "source": [
    "# Message History\n",
    "from langchain_community.chat_message_histories import ChatMessageHistory\n",
    "from langchain_core.chat_history import BaseChatMessageHistory\n",
    "from langchain_core.runnables.history import RunnableWithMessageHistory\n",
    "\n",
    "# Defining a function to make sessions for diff users\n",
    "store={}\n",
    "def sess_history(session_id:str)->BaseChatMessageHistory:\n",
    "    if session_id not in store:\n",
    "        store[session_id]=ChatMessageHistory()\n",
    "    return store[session_id]\n",
    "\n",
    "\n",
    "with_message_history=RunnableWithMessageHistory(model,get_session_history=sess_history)"
   ]
  },
  {
   "cell_type": "code",
   "execution_count": 6,
   "metadata": {},
   "outputs": [],
   "source": [
    "config={\"configurable\":{\"session_id\":\"chat1\"}}"
   ]
  },
  {
   "cell_type": "code",
   "execution_count": 7,
   "metadata": {},
   "outputs": [
    {
     "data": {
      "text/plain": [
       "AIMessage(content=\"Hello Akash Varma! It's nice to meet you. \\n\\nBeing a student at SRM University is great! Do you have a particular field of study you're interested in?  \\n\\nI'm here if you have any questions or just want to chat. 😊\\n\", additional_kwargs={}, response_metadata={'token_usage': {'completion_tokens': 59, 'prompt_tokens': 24, 'total_tokens': 83, 'completion_time': 0.107272727, 'prompt_time': 0.001240386, 'queue_time': 0.12870010699999998, 'total_time': 0.108513113}, 'model_name': 'Gemma2-9b-It', 'system_fingerprint': 'fp_10c08bf97d', 'finish_reason': 'stop', 'logprobs': None}, id='run-26ca5454-4318-4bc5-a0cc-8d13ede61a84-0', usage_metadata={'input_tokens': 24, 'output_tokens': 59, 'total_tokens': 83})"
      ]
     },
     "execution_count": 7,
     "metadata": {},
     "output_type": "execute_result"
    }
   ],
   "source": [
    "with_message_history.invoke(\n",
    "    [HumanMessage(\"Hi! I am Akash Varma and I am a student of SRM University\")],\n",
    "    config=config\n",
    ")"
   ]
  },
  {
   "cell_type": "code",
   "execution_count": 8,
   "metadata": {},
   "outputs": [
    {
     "data": {
      "text/plain": [
       "AIMessage(content='Your name is Akash Varma.  You told me at the beginning of our conversation! 😊  \\n\\nIs there anything else I can help you with?\\n', additional_kwargs={}, response_metadata={'token_usage': {'completion_tokens': 34, 'prompt_tokens': 96, 'total_tokens': 130, 'completion_time': 0.061818182, 'prompt_time': 0.004120988, 'queue_time': 0.212022436, 'total_time': 0.06593917}, 'model_name': 'Gemma2-9b-It', 'system_fingerprint': 'fp_10c08bf97d', 'finish_reason': 'stop', 'logprobs': None}, id='run-3003a111-9653-4687-b498-055108a3ce3b-0', usage_metadata={'input_tokens': 96, 'output_tokens': 34, 'total_tokens': 130})"
      ]
     },
     "execution_count": 8,
     "metadata": {},
     "output_type": "execute_result"
    }
   ],
   "source": [
    "with_message_history.invoke([HumanMessage(\"What is my name?\")], config=config)"
   ]
  },
  {
   "cell_type": "markdown",
   "metadata": {},
   "source": [
    "### Add Chat History using Chat prompt template"
   ]
  },
  {
   "cell_type": "code",
   "execution_count": 9,
   "metadata": {},
   "outputs": [],
   "source": [
    "from langchain_core.prompts import ChatPromptTemplate\n",
    "from langchain_core.prompts import MessagesPlaceholder\n",
    "prompt=ChatPromptTemplate.from_messages([\n",
    "    (\"system\",\"You are 'AHA' a Helpfull Assistant.Answer all questions to the nest of your ability in {language}.\",),\n",
    "    MessagesPlaceholder(\"messages\")\n",
    "])\n",
    "\n",
    "chain=prompt|model"
   ]
  },
  {
   "cell_type": "code",
   "execution_count": 10,
   "metadata": {},
   "outputs": [
    {
     "data": {
      "text/plain": [
       "AIMessage(content='नमस्ते अकाश! मैं AHA, आपकी मदद करने के लिए तैयार हूँ। \\n\\nआप मुझसे क्या जानना चाहते हैं? 😊\\n', additional_kwargs={}, response_metadata={'token_usage': {'completion_tokens': 37, 'prompt_tokens': 38, 'total_tokens': 75, 'completion_time': 0.067272727, 'prompt_time': 0.000309109, 'queue_time': 0.014205269, 'total_time': 0.067581836}, 'model_name': 'Gemma2-9b-It', 'system_fingerprint': 'fp_10c08bf97d', 'finish_reason': 'stop', 'logprobs': None}, id='run-cc900e64-5b4a-4953-b2d1-82bc5fdc8a3d-0', usage_metadata={'input_tokens': 38, 'output_tokens': 37, 'total_tokens': 75})"
      ]
     },
     "execution_count": 10,
     "metadata": {},
     "output_type": "execute_result"
    }
   ],
   "source": [
    "chain.invoke({\"messages\":[HumanMessage(\"Hi I am Akash!\")],\"language\":\"Hindi\"})"
   ]
  },
  {
   "cell_type": "code",
   "execution_count": 11,
   "metadata": {},
   "outputs": [],
   "source": [
    "from langchain_community.chat_message_histories import ChatMessageHistory\n",
    "from langchain_core.chat_history import BaseChatMessageHistory\n",
    "from langchain_core.runnables.history import RunnableWithMessageHistory\n",
    "store={}\n",
    "def sess_history(session_id:str)->BaseChatMessageHistory:\n",
    "    if session_id not in store:\n",
    "        store[session_id]=ChatMessageHistory()\n",
    "    return store[session_id]\n",
    "with_message_history=RunnableWithMessageHistory(chain,sess_history,input_messages_key=\"messages\")"
   ]
  },
  {
   "cell_type": "code",
   "execution_count": 12,
   "metadata": {},
   "outputs": [
    {
     "data": {
      "text/plain": [
       "AIMessage(content='नमस्ते! आप मुझे AHA कह सकते हैं। 😊 \\n\\nआप मुझे क्या कहना चाहेंगे?  \\n', additional_kwargs={}, response_metadata={'token_usage': {'completion_tokens': 28, 'prompt_tokens': 40, 'total_tokens': 68, 'completion_time': 0.050909091, 'prompt_time': 0.001170296, 'queue_time': 0.080416342, 'total_time': 0.052079387}, 'model_name': 'Gemma2-9b-It', 'system_fingerprint': 'fp_10c08bf97d', 'finish_reason': 'stop', 'logprobs': None}, id='run-b3db1e28-d5a5-4d9c-aca3-4ff85c9a4d67-0', usage_metadata={'input_tokens': 40, 'output_tokens': 28, 'total_tokens': 68})"
      ]
     },
     "execution_count": 12,
     "metadata": {},
     "output_type": "execute_result"
    }
   ],
   "source": [
    "config={\"configurable\":{\"session_id\":\"chatdemo\"}}\n",
    "response=with_message_history.invoke(\n",
    "    {\"messages\":[HumanMessage(\"Hi! What should i call you?\")],\"language\":\"Hindi\"}\n",
    "     ,config=config\n",
    ")\n",
    "\n",
    "response"
   ]
  },
  {
   "cell_type": "markdown",
   "metadata": {},
   "source": [
    "### Managing the Conversation History"
   ]
  },
  {
   "cell_type": "code",
   "execution_count": 15,
   "metadata": {},
   "outputs": [],
   "source": [
    "from langchain_core.messages import SystemMessage,trim_messages\n",
    "trimmer=trim_messages(\n",
    "    max_tokens=70,strategy=\"last\", token_counter=model,include_system=True,\n",
    "    allow_partial=False, start_on=\"human\"\n",
    ")\n",
    "\n",
    "messages=[\n",
    "    SystemMessage(\"You are a good Assistant\"),\n",
    "    HumanMessage(\"Hi! I am Akash.\"),\n",
    "    AIMessage(\"Hi! Akash\"),\n",
    "    HumanMessage(\"I want to read a summary\"),\n",
    "    AIMessage(\"2+2 is 4\")\n",
    "]"
   ]
  },
  {
   "cell_type": "code",
   "execution_count": 17,
   "metadata": {},
   "outputs": [
    {
     "data": {
      "text/plain": [
       "AIMessage(content='You asked  \"2+2 is 4\" \\n\\nIt wasn\\'t really a question, but a statement.  😊 \\n', additional_kwargs={}, response_metadata={'token_usage': {'completion_tokens': 31, 'prompt_tokens': 88, 'total_tokens': 119, 'completion_time': 0.056363636, 'prompt_time': 0.00324398, 'queue_time': 0.010278368999999999, 'total_time': 0.059607616}, 'model_name': 'Gemma2-9b-It', 'system_fingerprint': 'fp_10c08bf97d', 'finish_reason': 'stop', 'logprobs': None}, id='run-05dee5e9-0082-4fab-9634-75e46a9b4401-0', usage_metadata={'input_tokens': 88, 'output_tokens': 31, 'total_tokens': 119})"
      ]
     },
     "execution_count": 17,
     "metadata": {},
     "output_type": "execute_result"
    }
   ],
   "source": [
    "from operator import itemgetter\n",
    "from langchain_core.runnables import RunnablePassthrough\n",
    "\n",
    "chain=(RunnablePassthrough.assign(messages=itemgetter(\"messages\")|trimmer)|prompt|model)\n",
    "\n",
    "response=chain.invoke(\n",
    "    {\n",
    "        \"messages\": messages + [HumanMessage(\"What math problem did i ask?\")],\n",
    "        \"language\":\"English\",\n",
    "    }\n",
    ")\n",
    "\n",
    "response"
   ]
  },
  {
   "cell_type": "code",
   "execution_count": 20,
   "metadata": {},
   "outputs": [
    {
     "data": {
      "text/plain": [
       "'Your name is Akash.  👋  I remember!\\n'"
      ]
     },
     "execution_count": 20,
     "metadata": {},
     "output_type": "execute_result"
    }
   ],
   "source": [
    "# Using message History\n",
    "with_message_history=RunnableWithMessageHistory(\n",
    "    chain,sess_history,input_messages_key=\"messages\"\n",
    ")\n",
    "config=({\"configurable\":{\"session_id\":\"chat8\"}})\n",
    "\n",
    "response=with_message_history.invoke(\n",
    "    {\n",
    "        \"messages\":messages+[HumanMessage(\"What is my name?\")],\n",
    "        \"language\":\"English\",\n",
    "    }, config=config,\n",
    ")\n",
    "\n",
    "response.content"
   ]
  }
 ],
 "metadata": {
  "kernelspec": {
   "display_name": ".venv",
   "language": "python",
   "name": "python3"
  },
  "language_info": {
   "codemirror_mode": {
    "name": "ipython",
    "version": 3
   },
   "file_extension": ".py",
   "mimetype": "text/x-python",
   "name": "python",
   "nbconvert_exporter": "python",
   "pygments_lexer": "ipython3",
   "version": "3.12.3"
  }
 },
 "nbformat": 4,
 "nbformat_minor": 2
}
