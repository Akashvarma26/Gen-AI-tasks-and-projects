{
 "cells": [
  {
   "cell_type": "markdown",
   "metadata": {},
   "source": [
    "### Chatbot with history"
   ]
  },
  {
   "cell_type": "code",
   "execution_count": 1,
   "metadata": {},
   "outputs": [],
   "source": [
    "# Importing Libraries and setiing up API's\n",
    "import os\n",
    "from dotenv import load_dotenv\n",
    "load_dotenv()\n",
    "\n",
    "os.environ[\"GROQ_API_KEY\"]=os.getenv(\"GROQ_API_KEY\")\n",
    "from langchain_groq import ChatGroq\n",
    "# Loading model\n",
    "model=ChatGroq(model=\"Gemma2-9b-It\")"
   ]
  },
  {
   "cell_type": "code",
   "execution_count": 2,
   "metadata": {},
   "outputs": [
    {
     "data": {
      "text/plain": [
       "AIMessage(content=\"Hello Akash Varma Datla! \\n\\nIt's great to meet you.  \\n\\nI'm glad you reached out. Is there anything I can help you with today? I'm happy to answer questions, provide information, or even just chat.  \\n\\nBeing a student at SRM University is exciting!  What are you studying? 😊\\n\", additional_kwargs={}, response_metadata={'token_usage': {'completion_tokens': 74, 'prompt_tokens': 25, 'total_tokens': 99, 'completion_time': 0.134545455, 'prompt_time': 0.000159309, 'queue_time': 0.023025669, 'total_time': 0.134704764}, 'model_name': 'Gemma2-9b-It', 'system_fingerprint': 'fp_10c08bf97d', 'finish_reason': 'stop', 'logprobs': None}, id='run-6485edcb-a51e-4db1-b6f2-2ae1b442d10a-0', usage_metadata={'input_tokens': 25, 'output_tokens': 74, 'total_tokens': 99})"
      ]
     },
     "execution_count": 2,
     "metadata": {},
     "output_type": "execute_result"
    }
   ],
   "source": [
    "from langchain_core.messages import HumanMessage,SystemMessage\n",
    "model.invoke([HumanMessage(\"Hello! I am Akash Varma Datla, yA student of SRM University\")])"
   ]
  },
  {
   "cell_type": "code",
   "execution_count": 3,
   "metadata": {},
   "outputs": [
    {
     "data": {
      "text/plain": [
       "AIMessage(content=\"You told me your name is Akash Varma Datla and that you are a student at SRM University.  \\n\\nIs there anything else you'd like to know about yourself? I can try to access and process information from the real world, but my knowledge about you is limited to what you've told me.  😊 \\n\\n\", additional_kwargs={}, response_metadata={'token_usage': {'completion_tokens': 71, 'prompt_tokens': 126, 'total_tokens': 197, 'completion_time': 0.129090909, 'prompt_time': 0.003835942, 'queue_time': 0.020910796000000002, 'total_time': 0.132926851}, 'model_name': 'Gemma2-9b-It', 'system_fingerprint': 'fp_10c08bf97d', 'finish_reason': 'stop', 'logprobs': None}, id='run-a8e65a56-df42-4a87-98c0-3cae9a7b9807-0', usage_metadata={'input_tokens': 126, 'output_tokens': 71, 'total_tokens': 197})"
      ]
     },
     "execution_count": 3,
     "metadata": {},
     "output_type": "execute_result"
    }
   ],
   "source": [
    "from langchain_core.messages import AIMessage\n",
    "model.invoke(\n",
    "    [\n",
    "        HumanMessage(content=\"Hello! I am Akash Varma Datla, yA student of SRM University\"),\n",
    "        AIMessage(content=\"Hello Akash Varma Datla! It's nice to meet you.\\n\\nAre you a student at SRM University? That's great!  \\n\\nWhat can I do for you today? 😊 \\n\\nI can help with things like:\\n\\n* Answering your questions\\n* Generating creative text\\n* Summarizing information\\n* Translating languages\\n\\nJust let me know how I can be of service.\\n\"),\n",
    "        HumanMessage(content=\"What is my name and who am I?\")\n",
    "    ]\n",
    ")"
   ]
  },
  {
   "cell_type": "code",
   "execution_count": 4,
   "metadata": {},
   "outputs": [],
   "source": [
    "# Message History\n",
    "from langchain_community.chat_message_histories import ChatMessageHistory\n",
    "from langchain_core.chat_history import BaseChatMessageHistory\n",
    "from langchain_core.runnables.history import RunnableWithMessageHistory\n",
    "\n",
    "# Defining a function to make sessions for diff users\n",
    "store={}\n",
    "def sess_history(session_id:str)->BaseChatMessageHistory:\n",
    "    if session_id not in store:\n",
    "        store[session_id]=ChatMessageHistory()\n",
    "    return store[session_id]\n",
    "\n",
    "\n",
    "with_message_history=RunnableWithMessageHistory(model,get_session_history=sess_history)"
   ]
  },
  {
   "cell_type": "code",
   "execution_count": 5,
   "metadata": {},
   "outputs": [],
   "source": [
    "config={\"configurable\":{\"session_id\":\"chat1\"}}"
   ]
  },
  {
   "cell_type": "code",
   "execution_count": 6,
   "metadata": {},
   "outputs": [
    {
     "data": {
      "text/plain": [
       "AIMessage(content=\"Hi Akash Varma! \\n\\nIt's nice to meet you.  SRM University is a great institution. What are you studying there?  \\n\\nIs there anything I can help you with today? \\n\", additional_kwargs={}, response_metadata={'token_usage': {'completion_tokens': 45, 'prompt_tokens': 24, 'total_tokens': 69, 'completion_time': 0.081818182, 'prompt_time': 0.00014531, 'queue_time': 0.021984159, 'total_time': 0.081963492}, 'model_name': 'Gemma2-9b-It', 'system_fingerprint': 'fp_10c08bf97d', 'finish_reason': 'stop', 'logprobs': None}, id='run-7bb0430e-58e4-4901-a2e4-94b0fb1e1482-0', usage_metadata={'input_tokens': 24, 'output_tokens': 45, 'total_tokens': 69})"
      ]
     },
     "execution_count": 6,
     "metadata": {},
     "output_type": "execute_result"
    }
   ],
   "source": [
    "with_message_history.invoke(\n",
    "    [HumanMessage(\"Hi! I am Akash Varma and I am a student of SRM University\")],\n",
    "    config=config\n",
    ")"
   ]
  },
  {
   "cell_type": "code",
   "execution_count": 7,
   "metadata": {},
   "outputs": [
    {
     "data": {
      "text/plain": [
       "AIMessage(content='Your name is Akash Varma.  I remember!  😄  How can I help you further? \\n', additional_kwargs={}, response_metadata={'token_usage': {'completion_tokens': 25, 'prompt_tokens': 82, 'total_tokens': 107, 'completion_time': 0.045454545, 'prompt_time': 0.003289324, 'queue_time': 0.020424034, 'total_time': 0.048743869}, 'model_name': 'Gemma2-9b-It', 'system_fingerprint': 'fp_10c08bf97d', 'finish_reason': 'stop', 'logprobs': None}, id='run-b47ca55a-e60e-4d52-bb3e-e6ae3323e038-0', usage_metadata={'input_tokens': 82, 'output_tokens': 25, 'total_tokens': 107})"
      ]
     },
     "execution_count": 7,
     "metadata": {},
     "output_type": "execute_result"
    }
   ],
   "source": [
    "with_message_history.invoke([HumanMessage(\"What is my name?\")], config=config)"
   ]
  },
  {
   "cell_type": "markdown",
   "metadata": {},
   "source": [
    "### Add Chat History using Chat prompt template"
   ]
  },
  {
   "cell_type": "code",
   "execution_count": 8,
   "metadata": {},
   "outputs": [],
   "source": [
    "from langchain_core.prompts import ChatPromptTemplate\n",
    "from langchain_core.prompts import MessagesPlaceholder\n",
    "prompt=ChatPromptTemplate.from_messages([\n",
    "    (\"system\",\"You are 'AHA' a Helpfull Assistant.Answer all questions to the nest of your ability in {language}.\",),\n",
    "    MessagesPlaceholder(\"messages\")\n",
    "])\n",
    "\n",
    "chain=prompt|model"
   ]
  },
  {
   "cell_type": "code",
   "execution_count": 9,
   "metadata": {},
   "outputs": [
    {
     "data": {
      "text/plain": [
       "AIMessage(content='नमस्ते अकाश! मैं AHA, एक सहायक हूँ। \\n\\nआपकी कोई मदद चाहिए?  आप क्या पूछना चाहते हैं? 😊 \\n', additional_kwargs={}, response_metadata={'token_usage': {'completion_tokens': 41, 'prompt_tokens': 38, 'total_tokens': 79, 'completion_time': 0.074545455, 'prompt_time': 0.000333459, 'queue_time': 0.022895329, 'total_time': 0.074878914}, 'model_name': 'Gemma2-9b-It', 'system_fingerprint': 'fp_10c08bf97d', 'finish_reason': 'stop', 'logprobs': None}, id='run-ce232adb-682f-4f12-bc99-a4ea6b88dff1-0', usage_metadata={'input_tokens': 38, 'output_tokens': 41, 'total_tokens': 79})"
      ]
     },
     "execution_count": 9,
     "metadata": {},
     "output_type": "execute_result"
    }
   ],
   "source": [
    "chain.invoke({\"messages\":[HumanMessage(\"Hi I am Akash!\")],\"language\":\"Hindi\"})"
   ]
  },
  {
   "cell_type": "code",
   "execution_count": 10,
   "metadata": {},
   "outputs": [],
   "source": [
    "from langchain_community.chat_message_histories import ChatMessageHistory\n",
    "from langchain_core.chat_history import BaseChatMessageHistory\n",
    "from langchain_core.runnables.history import RunnableWithMessageHistory\n",
    "store={}\n",
    "def sess_history(session_id:str)->BaseChatMessageHistory:\n",
    "    if session_id not in store:\n",
    "        store[session_id]=ChatMessageHistory()\n",
    "    return store[session_id]\n",
    "with_message_history=RunnableWithMessageHistory(chain,sess_history,input_messages_key=\"messages\")"
   ]
  },
  {
   "cell_type": "code",
   "execution_count": 11,
   "metadata": {},
   "outputs": [
    {
     "data": {
      "text/plain": [
       "AIMessage(content='नमस्ते! आप मुझे AHA कह सकते हैं। 😊 \\n\\nआप मुझे क्या नाम देना चाहेंगे? \\n', additional_kwargs={}, response_metadata={'token_usage': {'completion_tokens': 29, 'prompt_tokens': 40, 'total_tokens': 69, 'completion_time': 0.052727273, 'prompt_time': 0.000335738, 'queue_time': 0.024176180000000002, 'total_time': 0.053063011}, 'model_name': 'Gemma2-9b-It', 'system_fingerprint': 'fp_10c08bf97d', 'finish_reason': 'stop', 'logprobs': None}, id='run-477bedcd-5afa-4f2f-9c1e-53d8d9c05f86-0', usage_metadata={'input_tokens': 40, 'output_tokens': 29, 'total_tokens': 69})"
      ]
     },
     "execution_count": 11,
     "metadata": {},
     "output_type": "execute_result"
    }
   ],
   "source": [
    "config={\"configurable\":{\"session_id\":\"chatdemo\"}}\n",
    "response=with_message_history.invoke(\n",
    "    {\"messages\":[HumanMessage(\"Hi! What should i call you?\")],\"language\":\"Hindi\"}\n",
    "     ,config=config\n",
    ")\n",
    "\n",
    "response"
   ]
  },
  {
   "cell_type": "markdown",
   "metadata": {},
   "source": [
    "### Managing the Conversation History"
   ]
  },
  {
   "cell_type": "code",
   "execution_count": 12,
   "metadata": {},
   "outputs": [],
   "source": [
    "from langchain_core.messages import SystemMessage,trim_messages\n",
    "trimmer=trim_messages(\n",
    "    max_tokens=70,strategy=\"last\", token_counter=model,include_system=True,\n",
    "    allow_partial=False, start_on=\"human\"\n",
    ")\n",
    "\n",
    "messages=[\n",
    "    SystemMessage(\"You are a good Assistant\"),\n",
    "    HumanMessage(\"Hi! I am Akash.\"),\n",
    "    AIMessage(\"Hi! Akash\"),\n",
    "    HumanMessage(\"I want to read a summary\"),\n",
    "    AIMessage(\"2+2 is 4\")\n",
    "]"
   ]
  },
  {
   "cell_type": "code",
   "execution_count": 13,
   "metadata": {},
   "outputs": [
    {
     "name": "stderr",
     "output_type": "stream",
     "text": [
      "d:\\Akash\\GENAILLMs\\Langchain projects\\.venv\\Lib\\site-packages\\tqdm\\auto.py:21: TqdmWarning: IProgress not found. Please update jupyter and ipywidgets. See https://ipywidgets.readthedocs.io/en/stable/user_install.html\n",
      "  from .autonotebook import tqdm as notebook_tqdm\n"
     ]
    },
    {
     "data": {
      "text/plain": [
       "AIMessage(content=\"You asked me to provide a summary, so you didn't ask a math problem.  I  assumed you meant a simple one to illustrate my abilities! \\n\\nIs there a particular topic or text you'd like me to summarize for you? 😊 \\n\\n\", additional_kwargs={}, response_metadata={'token_usage': {'completion_tokens': 57, 'prompt_tokens': 88, 'total_tokens': 145, 'completion_time': 0.103636364, 'prompt_time': 0.003228825, 'queue_time': 0.022294520999999998, 'total_time': 0.106865189}, 'model_name': 'Gemma2-9b-It', 'system_fingerprint': 'fp_10c08bf97d', 'finish_reason': 'stop', 'logprobs': None}, id='run-2fca4607-0afe-44cc-b2d5-52ed5cce1335-0', usage_metadata={'input_tokens': 88, 'output_tokens': 57, 'total_tokens': 145})"
      ]
     },
     "execution_count": 13,
     "metadata": {},
     "output_type": "execute_result"
    }
   ],
   "source": [
    "from operator import itemgetter\n",
    "from langchain_core.runnables import RunnablePassthrough\n",
    "\n",
    "chain=(RunnablePassthrough.assign(messages=itemgetter(\"messages\")|trimmer)|prompt|model)\n",
    "\n",
    "response=chain.invoke(\n",
    "    {\n",
    "        \"messages\": messages + [HumanMessage(\"What math problem did i ask?\")],\n",
    "        \"language\":\"English\",\n",
    "    }\n",
    ")\n",
    "\n",
    "response"
   ]
  },
  {
   "cell_type": "code",
   "execution_count": 14,
   "metadata": {},
   "outputs": [
    {
     "data": {
      "text/plain": [
       "'Your name is Akash. 😊  \\n\\nHow can I help you further?  \\n'"
      ]
     },
     "execution_count": 14,
     "metadata": {},
     "output_type": "execute_result"
    }
   ],
   "source": [
    "# Using message History\n",
    "with_message_history=RunnableWithMessageHistory(\n",
    "    chain,sess_history,input_messages_key=\"messages\"\n",
    ")\n",
    "config=({\"configurable\":{\"session_id\":\"chat8\"}})\n",
    "\n",
    "response=with_message_history.invoke(\n",
    "    {\n",
    "        \"messages\":messages+[HumanMessage(\"What is my name?\")],\n",
    "        \"language\":\"English\",\n",
    "    }, config=config,\n",
    ")\n",
    "\n",
    "response.content"
   ]
  }
 ],
 "metadata": {
  "kernelspec": {
   "display_name": ".venv",
   "language": "python",
   "name": "python3"
  },
  "language_info": {
   "codemirror_mode": {
    "name": "ipython",
    "version": 3
   },
   "file_extension": ".py",
   "mimetype": "text/x-python",
   "name": "python",
   "nbconvert_exporter": "python",
   "pygments_lexer": "ipython3",
   "version": "3.12.3"
  }
 },
 "nbformat": 4,
 "nbformat_minor": 2
}
