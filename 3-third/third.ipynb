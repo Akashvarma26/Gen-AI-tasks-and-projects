{
 "cells": [
  {
   "cell_type": "markdown",
   "metadata": {},
   "source": [
    "## Making a Language RAG Application using LangChain Expression Language(LCEL)"
   ]
  },
  {
   "cell_type": "code",
   "execution_count": 1,
   "metadata": {},
   "outputs": [],
   "source": [
    "# Using Groq api key\n",
    "import os\n",
    "from dotenv import load_dotenv\n",
    "load_dotenv()\n",
    "\n",
    "groq_api_key=os.getenv(\"GROQ_API_KEY\")"
   ]
  },
  {
   "cell_type": "code",
   "execution_count": 2,
   "metadata": {},
   "outputs": [],
   "source": [
    "# Loading Gemma2-9b model\n",
    "from langchain_groq import ChatGroq\n",
    "model=ChatGroq(model=\"Gemma2-9b-It\",groq_api_key=groq_api_key)"
   ]
  },
  {
   "cell_type": "code",
   "execution_count": 3,
   "metadata": {},
   "outputs": [],
   "source": [
    "from langchain_core.messages import HumanMessage,SystemMessage\n",
    "messages=[\n",
    "    SystemMessage(content=\"Translate the following from English to Hindi\"),\n",
    "    HumanMessage(content=\"How are you?\")\n",
    "]\n",
    "\n",
    "res=model.invoke(messages)"
   ]
  },
  {
   "cell_type": "code",
   "execution_count": 4,
   "metadata": {},
   "outputs": [
    {
     "data": {
      "text/plain": [
       "'आप कैसे हैं? (aap kaise hain?) \\n\\nThis is the most common way to say \"How are you?\" in Hindi. \\n'"
      ]
     },
     "execution_count": 4,
     "metadata": {},
     "output_type": "execute_result"
    }
   ],
   "source": [
    "from langchain_core.output_parsers import StrOutputParser\n",
    "parser=StrOutputParser()\n",
    "parser.invoke(res)"
   ]
  },
  {
   "cell_type": "code",
   "execution_count": 5,
   "metadata": {},
   "outputs": [
    {
     "data": {
      "text/plain": [
       "'आप कैसे हैं? (aap kaise hain?) \\n\\nThis is the most common way to say \"How are you?\" in Hindi. \\n'"
      ]
     },
     "execution_count": 5,
     "metadata": {},
     "output_type": "execute_result"
    }
   ],
   "source": [
    "chain=model|parser\n",
    "chain.invoke(messages)"
   ]
  },
  {
   "cell_type": "code",
   "execution_count": 6,
   "metadata": {},
   "outputs": [
    {
     "name": "stdout",
     "output_type": "stream",
     "text": [
      "## पांच यादृच्छिक संख्याएँ प्रिंट करने का कोड \n",
      "\n",
      "```python\n",
      "import random\n",
      "\n",
      "# 0 से 100 तक की पांच यादृच्छिक संख्याएँ उत्पन्न करें\n",
      "random_numbers = random.sample(range(101), 5)\n",
      "\n",
      "# संख्याओं को प्रिंट करें\n",
      "print(random_numbers) \n",
      "```\n",
      "\n",
      "**व्याख्या:**\n",
      "\n",
      "1. **`import random`:** यह पंक्ति `random` नामक मॉड्यूल को आयात करती है, जो यादृच्छिक संख्याएँ उत्पन्न करने के लिए आवश्यक कार्य प्रदान करता है।\n",
      "\n",
      "2. **`random_numbers = random.sample(range(101), 5)`:** यह पंक्ति पांच यादृच्छिक संख्याओं को उत्पन्न करने के लिए `random.sample()` कार्य का उपयोग करती है।\n",
      "\n",
      "    * `range(101)`: यह 0 से 100 तक की संख्याओं की एक श्रृंखला बनाता है। \n",
      "    * `random.sample(..., 5)`: यह कार्य श्रृंखला से 5 यादृच्छिक संख्याएँ चुनता है और उन्हें `random_numbers` नामक एक सूची में संग्रहीत करता है। \n",
      "\n",
      "3. **`print(random_numbers)`:** यह पंक्ति `random_numbers` सूची में संग्रहीत  पांच यादृच्छिक संख्याओं को प्रिंट करता है।\n",
      "\n",
      "यह कोड हर बार अलग-अलग पांच यादृच्छिक संख्याएँ उत्पन्न करेगा। \n",
      "\n",
      "\n",
      "\n"
     ]
    }
   ],
   "source": [
    "# Prompt templates\n",
    "from langchain_core.prompts import ChatPromptTemplate\n",
    "generic_tempt=\"Answer the question in {language} Language.\"\n",
    "\n",
    "prompt=ChatPromptTemplate.from_messages(\n",
    "    [\n",
    "        (\"system\",generic_tempt), (\"user\",\"{text}\")\n",
    "    ]\n",
    ")\n",
    "\n",
    "chain=prompt|model|parser\n",
    "response=chain.invoke({\"language\":\"Hindi\",\"text\":\"Write a code to print random 5 numbers. Explain them\"})\n",
    "print(response)"
   ]
  }
 ],
 "metadata": {
  "kernelspec": {
   "display_name": ".venv",
   "language": "python",
   "name": "python3"
  },
  "language_info": {
   "codemirror_mode": {
    "name": "ipython",
    "version": 3
   },
   "file_extension": ".py",
   "mimetype": "text/x-python",
   "name": "python",
   "nbconvert_exporter": "python",
   "pygments_lexer": "ipython3",
   "version": "3.12.3"
  }
 },
 "nbformat": 4,
 "nbformat_minor": 2
}
