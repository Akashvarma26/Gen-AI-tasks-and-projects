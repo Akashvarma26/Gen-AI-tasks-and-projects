{
 "cells": [
  {
   "cell_type": "markdown",
   "metadata": {},
   "source": [
    "## Making a Language RAG Application using LangChain Expression Language(LCEL)"
   ]
  },
  {
   "cell_type": "code",
   "execution_count": 6,
   "metadata": {},
   "outputs": [],
   "source": [
    "# Using Groq api key\n",
    "import os\n",
    "from dotenv import load_dotenv\n",
    "load_dotenv()\n",
    "\n",
    "groq_api_key=os.getenv(\"GROQ_API_KEY\")"
   ]
  },
  {
   "cell_type": "code",
   "execution_count": 7,
   "metadata": {},
   "outputs": [],
   "source": [
    "# Loading Gemma2-9b model\n",
    "from langchain_groq import ChatGroq\n",
    "model=ChatGroq(model=\"Gemma2-9b-It\",groq_api_key=groq_api_key)"
   ]
  },
  {
   "cell_type": "code",
   "execution_count": 8,
   "metadata": {},
   "outputs": [],
   "source": [
    "from langchain_core.messages import HumanMessage,SystemMessage\n",
    "messages=[\n",
    "    SystemMessage(content=\"Translate the following from English to Hindi\"),\n",
    "    HumanMessage(content=\"How are you?\")\n",
    "]\n",
    "\n",
    "res=model.invoke(messages)"
   ]
  },
  {
   "cell_type": "code",
   "execution_count": 9,
   "metadata": {},
   "outputs": [
    {
     "data": {
      "text/plain": [
       "'आप कैसे हैं? (aap kaise hain?) \\n'"
      ]
     },
     "execution_count": 9,
     "metadata": {},
     "output_type": "execute_result"
    }
   ],
   "source": [
    "from langchain_core.output_parsers import StrOutputParser\n",
    "parser=StrOutputParser()\n",
    "parser.invoke(res)"
   ]
  },
  {
   "cell_type": "code",
   "execution_count": 10,
   "metadata": {},
   "outputs": [
    {
     "data": {
      "text/plain": [
       "'The translation of \"How are you?\" in Hindi is:\\n\\n**आप कैसे हैं?** (aap kaise hain?) \\n\\n\\nThis is a formal way to ask someone how they are doing. \\n'"
      ]
     },
     "execution_count": 10,
     "metadata": {},
     "output_type": "execute_result"
    }
   ],
   "source": [
    "chain=model|parser\n",
    "chain.invoke(messages)"
   ]
  },
  {
   "cell_type": "code",
   "execution_count": 12,
   "metadata": {},
   "outputs": [
    {
     "name": "stdout",
     "output_type": "stream",
     "text": [
      "నమస్తే! నేను ఒక భాష మోడల్, Google వలె ప్రశంసనీయమైన జ్ఞానం ఉన్న తెలుగు భాషలో ప్రశ్నలకు సమాధానం ఇవ్వడానికి రూపొందించబడ్డాను. \n",
      "\n",
      "\n"
     ]
    }
   ],
   "source": [
    "# Prompt templates\n",
    "from langchain_core.prompts import ChatPromptTemplate\n",
    "generic_tempt=\"Answer the question in {language} Language.\"\n",
    "\n",
    "prompt=ChatPromptTemplate.from_messages(\n",
    "    [\n",
    "        (\"system\",generic_tempt), (\"user\",\"{text}\")\n",
    "    ]\n",
    ")\n",
    "\n",
    "chain=prompt|model|parser\n",
    "response=chain.invoke({\"language\":\"Telugu\",\"text\":\"Hello! Who are you?\"})\n",
    "print(response)"
   ]
  }
 ],
 "metadata": {
  "kernelspec": {
   "display_name": "langchavenv",
   "language": "python",
   "name": "python3"
  },
  "language_info": {
   "codemirror_mode": {
    "name": "ipython",
    "version": 3
   },
   "file_extension": ".py",
   "mimetype": "text/x-python",
   "name": "python",
   "nbconvert_exporter": "python",
   "pygments_lexer": "ipython3",
   "version": "3.12.3"
  }
 },
 "nbformat": 4,
 "nbformat_minor": 2
}
