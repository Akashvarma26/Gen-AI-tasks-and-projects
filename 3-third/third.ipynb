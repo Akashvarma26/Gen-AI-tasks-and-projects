{
 "cells": [
  {
   "cell_type": "markdown",
   "metadata": {},
   "source": [
    "## Making a Language RAG Application using LangChain Expression Language(LCEL)"
   ]
  },
  {
   "cell_type": "code",
   "execution_count": 1,
   "metadata": {},
   "outputs": [],
   "source": [
    "# Using Groq api key\n",
    "import os\n",
    "from dotenv import load_dotenv\n",
    "load_dotenv()\n",
    "\n",
    "groq_api_key=os.getenv(\"GROQ_API_KEY\")"
   ]
  },
  {
   "cell_type": "code",
   "execution_count": 2,
   "metadata": {},
   "outputs": [],
   "source": [
    "# Loading Gemma2-9b model\n",
    "from langchain_groq import ChatGroq\n",
    "model=ChatGroq(model=\"Gemma2-9b-It\",groq_api_key=groq_api_key)"
   ]
  },
  {
   "cell_type": "code",
   "execution_count": 3,
   "metadata": {},
   "outputs": [],
   "source": [
    "from langchain_core.messages import HumanMessage,SystemMessage\n",
    "messages=[\n",
    "    SystemMessage(content=\"Translate the following from English to Hindi\"),\n",
    "    HumanMessage(content=\"How are you?\")\n",
    "]\n",
    "\n",
    "res=model.invoke(messages)"
   ]
  },
  {
   "cell_type": "code",
   "execution_count": 4,
   "metadata": {},
   "outputs": [
    {
     "data": {
      "text/plain": [
       "'आप कैसे हैं? (Aap kaise hain?) \\n'"
      ]
     },
     "execution_count": 4,
     "metadata": {},
     "output_type": "execute_result"
    }
   ],
   "source": [
    "from langchain_core.output_parsers import StrOutputParser\n",
    "parser=StrOutputParser()\n",
    "parser.invoke(res)"
   ]
  },
  {
   "cell_type": "code",
   "execution_count": 5,
   "metadata": {},
   "outputs": [
    {
     "data": {
      "text/plain": [
       "'आप कैसे हैं? (Aap kaise hain?) \\n\\nThis is the most common way to say \"How are you?\" in Hindi. \\n'"
      ]
     },
     "execution_count": 5,
     "metadata": {},
     "output_type": "execute_result"
    }
   ],
   "source": [
    "chain=model|parser\n",
    "chain.invoke(messages)"
   ]
  },
  {
   "cell_type": "code",
   "execution_count": 12,
   "metadata": {},
   "outputs": [
    {
     "name": "stdout",
     "output_type": "stream",
     "text": [
      "##  Code Python pour imprimer 5 nombres aléatoires\n",
      "\n",
      "```python\n",
      "import random\n",
      "\n",
      "nombres_randoms = random.sample(range(1, 101), 5)  \n",
      "print(nombres_randoms)\n",
      "```\n",
      "\n",
      "**Explication :**\n",
      "\n",
      "1. **`import random`**: Cette ligne importe le module `random`, qui contient des fonctions pour générer des nombres aléatoires.\n",
      "\n",
      "2. **`nombres_randoms = random.sample(range(1, 101), 5)`**: \n",
      "   - `range(1, 101)` crée une séquence de nombres de 1 à 100.\n",
      "   - `random.sample(..., 5)` sélectionne 5 nombres aléatoires parmi cette séquence, en assurant qu'aucun nombre ne soit répété.\n",
      "   - Les nombres choisis sont stockés dans la variable `nombres_randoms`.\n",
      "\n",
      "3. **`print(nombres_randoms)`**: Cette ligne affiche la liste des 5 nombres aléatoires.\n",
      "\n",
      "**Remarque :**\n",
      "\n",
      "* Vous pouvez ajuster la plage de nombres en modifiant les bornes de `range(1, 101)`. Par exemple, `range(1, 1000)` produira des nombres aléatoires entre 1 et 999.\n",
      "* Le nombre de nombres aléatoires à générer peut être modifié en changeant la valeur `5` dans `random.sample(..., 5)`.\n",
      "\n",
      "J'espère que cela vous aide!\n",
      "\n",
      "\n",
      "\n"
     ]
    }
   ],
   "source": [
    "# Prompt templates\n",
    "from langchain_core.prompts import ChatPromptTemplate\n",
    "generic_tempt=\"Answer the question in {language} Language.\"\n",
    "\n",
    "prompt=ChatPromptTemplate.from_messages(\n",
    "    [\n",
    "        (\"system\",generic_tempt), (\"user\",\"{text}\")\n",
    "    ]\n",
    ")\n",
    "\n",
    "chain=prompt|model|parser\n",
    "response=chain.invoke({\"language\":\"French\",\"text\":\"Write a code to print random 5 numbers. Explain them\"})\n",
    "print(response)"
   ]
  }
 ],
 "metadata": {
  "kernelspec": {
   "display_name": ".venv",
   "language": "python",
   "name": "python3"
  },
  "language_info": {
   "codemirror_mode": {
    "name": "ipython",
    "version": 3
   },
   "file_extension": ".py",
   "mimetype": "text/x-python",
   "name": "python",
   "nbconvert_exporter": "python",
   "pygments_lexer": "ipython3",
   "version": "3.12.3"
  }
 },
 "nbformat": 4,
 "nbformat_minor": 2
}
