{
 "cells": [
  {
   "cell_type": "markdown",
   "metadata": {},
   "source": [
    "## Making a Language RAG Application using LangChain Expression Language(LCEL)"
   ]
  },
  {
   "cell_type": "code",
   "execution_count": 1,
   "metadata": {},
   "outputs": [],
   "source": [
    "# Using Groq api key\n",
    "import os\n",
    "from dotenv import load_dotenv\n",
    "load_dotenv()\n",
    "\n",
    "groq_api_key=os.getenv(\"GROQ_API_KEY\")"
   ]
  },
  {
   "cell_type": "code",
   "execution_count": 2,
   "metadata": {},
   "outputs": [],
   "source": [
    "# Loading Gemma2-9b model\n",
    "from langchain_groq import ChatGroq\n",
    "model=ChatGroq(model=\"Gemma2-9b-It\",groq_api_key=groq_api_key)"
   ]
  },
  {
   "cell_type": "code",
   "execution_count": 3,
   "metadata": {},
   "outputs": [],
   "source": [
    "from langchain_core.messages import HumanMessage,SystemMessage\n",
    "messages=[\n",
    "    SystemMessage(content=\"Translate the following from English to Hindi\"),\n",
    "    HumanMessage(content=\"How are you?\")\n",
    "]\n",
    "\n",
    "res=model.invoke(messages)"
   ]
  },
  {
   "cell_type": "code",
   "execution_count": 4,
   "metadata": {},
   "outputs": [
    {
     "data": {
      "text/plain": [
       "'आप कैसे हैं? (Aap kaise hain?) \\n'"
      ]
     },
     "execution_count": 4,
     "metadata": {},
     "output_type": "execute_result"
    }
   ],
   "source": [
    "from langchain_core.output_parsers import StrOutputParser\n",
    "parser=StrOutputParser()\n",
    "parser.invoke(res)"
   ]
  },
  {
   "cell_type": "code",
   "execution_count": 5,
   "metadata": {},
   "outputs": [
    {
     "data": {
      "text/plain": [
       "'आप कैसे हैं? (Aap kaise hain?) \\n'"
      ]
     },
     "execution_count": 5,
     "metadata": {},
     "output_type": "execute_result"
    }
   ],
   "source": [
    "chain=model|parser\n",
    "chain.invoke(messages)"
   ]
  },
  {
   "cell_type": "code",
   "execution_count": 10,
   "metadata": {},
   "outputs": [
    {
     "name": "stdout",
     "output_type": "stream",
     "text": [
      "## Hello World కోసం తెలుగులో 코드:\n",
      "\n",
      "```c\n",
      "#include <stdio.h>\n",
      "\n",
      "int main() {\n",
      "  printf(\"Hello World!\");\n",
      "  return 0;\n",
      "}\n",
      "```\n",
      "\n",
      "**వ్యాఖ్య:**\n",
      "\n",
      "* **`#include <stdio.h>`**: ఇది `stdio.h` 헤డర్ ఫైల్ ను<h1>include</h1> చేస్తుంది. ఈ ఫైల్ ప్రింటింగ్ ఫంక్షన్లు (జి^) వంటి ప్రామాణిక ఇ/ఓ ఆపరేషన్లను నిర్వచించింది.\n",
      "\n",
      "* **`int main() { ... }`**: ఇది ప్రోగ్రామ్ యొక్క ప్రధాన ఫంక్షన్. ప్రోగ్రామ్ నిర్వహణ ప్రారంభం ఈ ఫంక్షన్ నుండి జరుగుతుంది. `int` అంటే ఈ ఫంక్షన్ లోని విలువను 0 లేదా 1 గా తిరిగిస్తుంది.\n",
      "\n",
      "* **`printf(\"Hello World!\");`**: ఇది `printf` ఫంక్షన్ ను ఉపయోగిస్తుంది, ఇది \"Hello World!\" అనే 문자열ను కన్సోల్ (నిర్దేశిత ప్రదర్శన) లో ప్రింట్ చేస్తుంది.\n",
      "\n",
      "* **`return 0;`**:  ప్రోగ్రామ్ నిర్వహణ సఫలంగా పూర్తయిందని సూచిస్తుంది.\n",
      "\n",
      " \n",
      "\n"
     ]
    }
   ],
   "source": [
    "# Prompt templates\n",
    "from langchain_core.prompts import ChatPromptTemplate\n",
    "generic_tempt=\"Answer the question in {language} Language.\"\n",
    "\n",
    "prompt=ChatPromptTemplate.from_messages(\n",
    "    [\n",
    "        (\"system\",generic_tempt), (\"user\",\"{text}\")\n",
    "    ]\n",
    ")\n",
    "\n",
    "chain=prompt|model|parser\n",
    "response=chain.invoke({\"language\":\"Telugu\",\"text\":\"Hello! write me code to print hello world. Explain it\"})\n",
    "print(response)"
   ]
  }
 ],
 "metadata": {
  "kernelspec": {
   "display_name": ".venv",
   "language": "python",
   "name": "python3"
  },
  "language_info": {
   "codemirror_mode": {
    "name": "ipython",
    "version": 3
   },
   "file_extension": ".py",
   "mimetype": "text/x-python",
   "name": "python",
   "nbconvert_exporter": "python",
   "pygments_lexer": "ipython3",
   "version": "3.12.3"
  }
 },
 "nbformat": 4,
 "nbformat_minor": 2
}
