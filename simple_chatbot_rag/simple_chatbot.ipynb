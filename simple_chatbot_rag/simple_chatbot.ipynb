{
 "cells": [
  {
   "cell_type": "code",
   "execution_count": 1,
   "metadata": {},
   "outputs": [],
   "source": [
    "import os\n",
    "from dotenv import load_dotenv\n",
    "load_dotenv()\n",
    "\n",
    "os.environ[\"OPENAI_API_KEY\"]=os.getenv(\"OPENAI_API_KEY\")\n",
    "os.environ[\"LANGCHAIN_API_KEY\"]=os.getenv(\"LANGCHAIN_API_KEY\")\n",
    "os.environ[\"LANGCHAIN_TRACING_V2\"]=\"true\"\n",
    "os.environ[\"LANGCHAIN_ENDPOINT\"]=\"https://api.smith.langchain.com\"\n",
    "os.environ[\"LANGCHAIN_PROJECT\"]=os.getenv(\"LANGCHAIN_PROJECT\")"
   ]
  },
  {
   "cell_type": "code",
   "execution_count": 2,
   "metadata": {},
   "outputs": [
    {
     "data": {
      "text/plain": [
       "ChatOpenAI(client=<openai.resources.chat.completions.Completions object at 0x0000026ACDF5DA90>, async_client=<openai.resources.chat.completions.AsyncCompletions object at 0x0000026ACDF5F7D0>, root_client=<openai.OpenAI object at 0x0000026ACDCA3170>, root_async_client=<openai.AsyncOpenAI object at 0x0000026ACDD8E510>, model_name='gpt-4o', model_kwargs={}, openai_api_key=SecretStr('**********'))"
      ]
     },
     "execution_count": 2,
     "metadata": {},
     "output_type": "execute_result"
    }
   ],
   "source": [
    "# Import LLM\n",
    "from langchain_openai import ChatOpenAI\n",
    "llm=ChatOpenAI(model=\"gpt-4o\")\n",
    "llm"
   ]
  },
  {
   "cell_type": "code",
   "execution_count": 3,
   "metadata": {},
   "outputs": [
    {
     "name": "stdout",
     "output_type": "stream",
     "text": [
      "content='Artificial Intelligence (AI) refers to the simulation of human intelligence processes by machines, particularly computer systems. These processes include learning (the acquisition of information and rules for using the information), reasoning (using rules to reach approximate or definite conclusions), and self-correction. AI can be categorized into several types, including:\\n\\n1. **Narrow AI (Weak AI):** Designed to perform a narrow task (e.g., facial recognition, internet searches, or driving a car). Most of the AI systems available today fall under this category.\\n\\n2. **General AI (Strong AI):** A theoretical form of AI that possesses the ability to perform any intellectual task that a human can do. It would have a comprehensive understanding and cognitive abilities.\\n\\n3. **Superintelligent AI:** An AI that surpasses human intelligence and capability. This is a speculative concept and has not yet been achieved.\\n\\nAI technologies include machine learning, where systems can automatically learn and improve from experience without being explicitly programmed, and deep learning, a subset of machine learning that uses neural networks with many layers. AI applications are diverse and can be found in fields such as healthcare, finance, education, transportation, and more, enhancing efficiency and creating new possibilities.' additional_kwargs={'refusal': None} response_metadata={'token_usage': {'completion_tokens': 243, 'prompt_tokens': 11, 'total_tokens': 254, 'completion_tokens_details': {'accepted_prediction_tokens': 0, 'audio_tokens': 0, 'reasoning_tokens': 0, 'rejected_prediction_tokens': 0}, 'prompt_tokens_details': {'audio_tokens': 0, 'cached_tokens': 0}}, 'model_name': 'gpt-4o-2024-08-06', 'system_fingerprint': 'fp_45cf54deae', 'finish_reason': 'stop', 'logprobs': None} id='run-edf7d5f7-496d-4810-b932-19ab65b6ea2a-0' usage_metadata={'input_tokens': 11, 'output_tokens': 243, 'total_tokens': 254, 'input_token_details': {'audio': 0, 'cache_read': 0}, 'output_token_details': {'audio': 0, 'reasoning': 0}}\n"
     ]
    }
   ],
   "source": [
    "# Input and get response from GPT 4o model\n",
    "res=llm.invoke(\"What is AI?\")\n",
    "print(res)"
   ]
  },
  {
   "cell_type": "code",
   "execution_count": 4,
   "metadata": {},
   "outputs": [],
   "source": [
    "# ChatPrompt template\n",
    "from langchain_core.prompts import ChatPromptTemplate\n",
    "\n",
    "prompt=ChatPromptTemplate.from_messages(\n",
    "    [\n",
    "        (\"system\",\"You are a Software Engineer.Provide me answers based on the questions.\"),\n",
    "        (\"user\",\"{input}\")\n",
    "    ])"
   ]
  },
  {
   "cell_type": "code",
   "execution_count": 5,
   "metadata": {},
   "outputs": [
    {
     "name": "stdout",
     "output_type": "stream",
     "text": [
      "content=\"JavaScript is a high-level, dynamic, untyped, and interpreted programming language that is widely used in web development. It is one of the core technologies of the World Wide Web, alongside HTML and CSS, and is supported by all major web browsers. JavaScript enables interactive web pages and is an essential part of web applications.\\n\\nHere's where JavaScript is commonly used:\\n\\n1. **Client-Side Web Development**: JavaScript is primarily used to enhance the user interface and improve user interactions within a web page. This includes tasks such as form validation, creating interactive effects like image sliders, drop-down menus, and animations.\\n\\n2. **Server-Side Development**: With environments like Node.js, JavaScript is also used for server-side programming. This allows developers to use a single programming language for both client-side and server-side development, facilitating full-stack development.\\n\\n3. **Web and Mobile App Development**: JavaScript frameworks and libraries like React, Angular, and Vue.js are popular for building complex web applications. Additionally, frameworks like React Native and Ionic allow developers to create mobile applications using JavaScript.\\n\\n4. **Game Development**: JavaScript can be used to develop browser-based games, using libraries like Phaser and Three.js for 2D and 3D gaming experiences, respectively.\\n\\n5. **Desktop Application Development**: Tools like Electron allow developers to build cross-platform desktop applications using JavaScript, HTML, and CSS.\\n\\n6. **Internet of Things (IoT)**: JavaScript can be used for programming IoT devices with platforms like Johnny-Five and Node-RED.\\n\\nOverall, JavaScript's versatility and extensive ecosystem make it a vital tool for developers in various domains beyond just web development.\" additional_kwargs={'refusal': None} response_metadata={'token_usage': {'completion_tokens': 344, 'prompt_tokens': 34, 'total_tokens': 378, 'completion_tokens_details': {'accepted_prediction_tokens': 0, 'audio_tokens': 0, 'reasoning_tokens': 0, 'rejected_prediction_tokens': 0}, 'prompt_tokens_details': {'audio_tokens': 0, 'cached_tokens': 0}}, 'model_name': 'gpt-4o-2024-08-06', 'system_fingerprint': 'fp_9ee9e968ea', 'finish_reason': 'stop', 'logprobs': None} id='run-7042459a-23cf-45fc-8f94-e0e403fea7aa-0' usage_metadata={'input_tokens': 34, 'output_tokens': 344, 'total_tokens': 378, 'input_token_details': {'audio': 0, 'cache_read': 0}, 'output_token_details': {'audio': 0, 'reasoning': 0}}\n"
     ]
    }
   ],
   "source": [
    "# Chain\n",
    "chain=prompt|llm\n",
    "\n",
    "response=chain.invoke({\"input\":\"What is Javascript and where it is used?\"})\n",
    "print(response)"
   ]
  },
  {
   "cell_type": "code",
   "execution_count": 6,
   "metadata": {},
   "outputs": [
    {
     "name": "stdout",
     "output_type": "stream",
     "text": [
      "JavaScript is a high-level, dynamic, untyped, and interpreted programming language that is widely used to create and control dynamic website content. It is an essential part of web development, alongside HTML and CSS, and is supported by all modern web browsers. JavaScript enables interactive web pages and is an essential part of web applications.\n",
      "\n",
      "### Where JavaScript is Used:\n",
      "\n",
      "1. **Web Development:**\n",
      "   - **Client-Side Scripting:** JavaScript is primarily used for client-side scripting to create dynamic and interactive web pages. It allows developers to implement features like form validation, interactive maps, animated graphics, and more.\n",
      "   - **Server-Side Development:** With environments like Node.js, JavaScript can also be used on the server-side to handle HTTP requests, access databases, and perform other back-end operations.\n",
      "\n",
      "2. **Web Applications:**\n",
      "   - JavaScript frameworks and libraries such as React, Angular, and Vue.js are used to build complex web applications with robust user interfaces.\n",
      "\n",
      "3. **Mobile Apps:**\n",
      "   - JavaScript can be used to develop mobile applications using frameworks like React Native or Apache Cordova, which allow the code to be shared between web and mobile applications.\n",
      "\n",
      "4. **Game Development:**\n",
      "   - JavaScript is used in game development, particularly for web-based games, using libraries such as Phaser and Babylon.js.\n",
      "\n",
      "5. **Desktop Applications:**\n",
      "   - JavaScript can be used to build cross-platform desktop applications using frameworks like Electron, which allows developers to create applications for Windows, macOS, and Linux.\n",
      "\n",
      "6. **Internet of Things (IoT):**\n",
      "   - JavaScript is also being used in IoT applications, where it can run on small devices to control hardware or process data from sensors.\n",
      "\n",
      "Overall, JavaScript's versatility and extensive ecosystem make it a critical technology in modern software development across various platforms and industries.\n"
     ]
    }
   ],
   "source": [
    "# str output Parser to display output\n",
    "from langchain_core.output_parsers import StrOutputParser\n",
    "parser1=StrOutputParser()\n",
    "chain=prompt|llm|parser1\n",
    "\n",
    "response=chain.invoke({\"input\":\"What is Javascript and where it is used?\"})\n",
    "print(response)"
   ]
  }
 ],
 "metadata": {
  "kernelspec": {
   "display_name": ".venv",
   "language": "python",
   "name": "python3"
  },
  "language_info": {
   "codemirror_mode": {
    "name": "ipython",
    "version": 3
   },
   "file_extension": ".py",
   "mimetype": "text/x-python",
   "name": "python",
   "nbconvert_exporter": "python",
   "pygments_lexer": "ipython3",
   "version": "3.12.3"
  }
 },
 "nbformat": 4,
 "nbformat_minor": 2
}
